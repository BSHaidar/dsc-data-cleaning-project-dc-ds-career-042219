{
 "cells": [
  {
   "cell_type": "markdown",
   "metadata": {},
   "source": [
    "# Project - Data Cleaning\n",
    "\n",
    "## Introduction\n",
    "In this lab, we'll make use of everything we've learned about pandas, data cleaning, and Exploratory Data Analysis. In order to complete this lab, you'll have to make import, clean, combine, reshape, and visualize data to answer questions provided, as well as your own questions!\n",
    "\n",
    "## Objectives\n",
    "You will be able to:\n",
    "* Show mastery of the content covered in this section\n",
    "\n",
    "## The Dataset\n",
    "In this lab, we'll work with the comprehensive [Super Heroes Dataset](https://www.kaggle.com/claudiodavi/superhero-set/data), which can be found on Kaggle!\n",
    "\n",
    "## Goals\n",
    "* Use all available pandas knowledge to clean the dataset and deal with null values\n",
    "* Use Queries and aggregations to group the data into interesting subsets as needed\n",
    "* Use descriptive statistics and data visualization to find answers to questions we may have about the data. \n",
    "\n",
    "## Getting Started\n",
    "\n",
    "In the cell below:\n",
    "\n",
    "* Import and alias pandas as `pd`\n",
    "* Import and alias numpy as `np`\n",
    "* Import and alias seaborn as `sns`\n",
    "* Import and alias matplotlib.pyplot as `plt`\n",
    "* Set matplotlib visualizations to display inline in the notebook"
   ]
  },
  {
   "cell_type": "code",
   "execution_count": 1,
   "metadata": {},
   "outputs": [],
   "source": [
    "import pandas as pd\n",
    "import numpy as np\n",
    "import seaborn as sns\n",
    "import matplotlib.pyplot as plt\n",
    "%matplotlib inline"
   ]
  },
  {
   "cell_type": "markdown",
   "metadata": {},
   "source": [
    "For this lab, our dataset is split among two different sources--`heroes_information.csv` and `super_hero_powers.csv`.\n",
    "\n",
    "Use pandas to read in each file and store them in DataFrames in the appropriate variables below. Then, display the head of each to ensure that everything loaded correctly.  "
   ]
  },
  {
   "cell_type": "code",
   "execution_count": 2,
   "metadata": {},
   "outputs": [
    {
     "data": {
      "text/html": [
       "<div>\n",
       "<style scoped>\n",
       "    .dataframe tbody tr th:only-of-type {\n",
       "        vertical-align: middle;\n",
       "    }\n",
       "\n",
       "    .dataframe tbody tr th {\n",
       "        vertical-align: top;\n",
       "    }\n",
       "\n",
       "    .dataframe thead th {\n",
       "        text-align: right;\n",
       "    }\n",
       "</style>\n",
       "<table border=\"1\" class=\"dataframe\">\n",
       "  <thead>\n",
       "    <tr style=\"text-align: right;\">\n",
       "      <th></th>\n",
       "      <th>Unnamed: 0</th>\n",
       "      <th>name</th>\n",
       "      <th>Gender</th>\n",
       "      <th>Eye color</th>\n",
       "      <th>Race</th>\n",
       "      <th>Hair color</th>\n",
       "      <th>Height</th>\n",
       "      <th>Publisher</th>\n",
       "      <th>Skin color</th>\n",
       "      <th>Alignment</th>\n",
       "      <th>Weight</th>\n",
       "    </tr>\n",
       "  </thead>\n",
       "  <tbody>\n",
       "    <tr>\n",
       "      <th>0</th>\n",
       "      <td>0</td>\n",
       "      <td>A-Bomb</td>\n",
       "      <td>Male</td>\n",
       "      <td>yellow</td>\n",
       "      <td>Human</td>\n",
       "      <td>No Hair</td>\n",
       "      <td>203.0</td>\n",
       "      <td>Marvel Comics</td>\n",
       "      <td>-</td>\n",
       "      <td>good</td>\n",
       "      <td>441.0</td>\n",
       "    </tr>\n",
       "    <tr>\n",
       "      <th>1</th>\n",
       "      <td>1</td>\n",
       "      <td>Abe Sapien</td>\n",
       "      <td>Male</td>\n",
       "      <td>blue</td>\n",
       "      <td>Icthyo Sapien</td>\n",
       "      <td>No Hair</td>\n",
       "      <td>191.0</td>\n",
       "      <td>Dark Horse Comics</td>\n",
       "      <td>blue</td>\n",
       "      <td>good</td>\n",
       "      <td>65.0</td>\n",
       "    </tr>\n",
       "    <tr>\n",
       "      <th>2</th>\n",
       "      <td>2</td>\n",
       "      <td>Abin Sur</td>\n",
       "      <td>Male</td>\n",
       "      <td>blue</td>\n",
       "      <td>Ungaran</td>\n",
       "      <td>No Hair</td>\n",
       "      <td>185.0</td>\n",
       "      <td>DC Comics</td>\n",
       "      <td>red</td>\n",
       "      <td>good</td>\n",
       "      <td>90.0</td>\n",
       "    </tr>\n",
       "    <tr>\n",
       "      <th>3</th>\n",
       "      <td>3</td>\n",
       "      <td>Abomination</td>\n",
       "      <td>Male</td>\n",
       "      <td>green</td>\n",
       "      <td>Human / Radiation</td>\n",
       "      <td>No Hair</td>\n",
       "      <td>203.0</td>\n",
       "      <td>Marvel Comics</td>\n",
       "      <td>-</td>\n",
       "      <td>bad</td>\n",
       "      <td>441.0</td>\n",
       "    </tr>\n",
       "    <tr>\n",
       "      <th>4</th>\n",
       "      <td>4</td>\n",
       "      <td>Abraxas</td>\n",
       "      <td>Male</td>\n",
       "      <td>blue</td>\n",
       "      <td>Cosmic Entity</td>\n",
       "      <td>Black</td>\n",
       "      <td>-99.0</td>\n",
       "      <td>Marvel Comics</td>\n",
       "      <td>-</td>\n",
       "      <td>bad</td>\n",
       "      <td>-99.0</td>\n",
       "    </tr>\n",
       "  </tbody>\n",
       "</table>\n",
       "</div>"
      ],
      "text/plain": [
       "   Unnamed: 0         name Gender Eye color               Race Hair color  \\\n",
       "0           0       A-Bomb   Male    yellow              Human    No Hair   \n",
       "1           1   Abe Sapien   Male      blue      Icthyo Sapien    No Hair   \n",
       "2           2     Abin Sur   Male      blue            Ungaran    No Hair   \n",
       "3           3  Abomination   Male     green  Human / Radiation    No Hair   \n",
       "4           4      Abraxas   Male      blue      Cosmic Entity      Black   \n",
       "\n",
       "   Height          Publisher Skin color Alignment  Weight  \n",
       "0   203.0      Marvel Comics          -      good   441.0  \n",
       "1   191.0  Dark Horse Comics       blue      good    65.0  \n",
       "2   185.0          DC Comics        red      good    90.0  \n",
       "3   203.0      Marvel Comics          -       bad   441.0  \n",
       "4   -99.0      Marvel Comics          -       bad   -99.0  "
      ]
     },
     "metadata": {},
     "output_type": "display_data"
    },
    {
     "data": {
      "text/html": [
       "<div>\n",
       "<style scoped>\n",
       "    .dataframe tbody tr th:only-of-type {\n",
       "        vertical-align: middle;\n",
       "    }\n",
       "\n",
       "    .dataframe tbody tr th {\n",
       "        vertical-align: top;\n",
       "    }\n",
       "\n",
       "    .dataframe thead th {\n",
       "        text-align: right;\n",
       "    }\n",
       "</style>\n",
       "<table border=\"1\" class=\"dataframe\">\n",
       "  <thead>\n",
       "    <tr style=\"text-align: right;\">\n",
       "      <th></th>\n",
       "      <th>hero_names</th>\n",
       "      <th>Agility</th>\n",
       "      <th>Accelerated Healing</th>\n",
       "      <th>Lantern Power Ring</th>\n",
       "      <th>Dimensional Awareness</th>\n",
       "      <th>Cold Resistance</th>\n",
       "      <th>Durability</th>\n",
       "      <th>Stealth</th>\n",
       "      <th>Energy Absorption</th>\n",
       "      <th>Flight</th>\n",
       "      <th>...</th>\n",
       "      <th>Web Creation</th>\n",
       "      <th>Reality Warping</th>\n",
       "      <th>Odin Force</th>\n",
       "      <th>Symbiote Costume</th>\n",
       "      <th>Speed Force</th>\n",
       "      <th>Phoenix Force</th>\n",
       "      <th>Molecular Dissipation</th>\n",
       "      <th>Vision - Cryo</th>\n",
       "      <th>Omnipresent</th>\n",
       "      <th>Omniscient</th>\n",
       "    </tr>\n",
       "  </thead>\n",
       "  <tbody>\n",
       "    <tr>\n",
       "      <th>0</th>\n",
       "      <td>3-D Man</td>\n",
       "      <td>True</td>\n",
       "      <td>False</td>\n",
       "      <td>False</td>\n",
       "      <td>False</td>\n",
       "      <td>False</td>\n",
       "      <td>False</td>\n",
       "      <td>False</td>\n",
       "      <td>False</td>\n",
       "      <td>False</td>\n",
       "      <td>...</td>\n",
       "      <td>False</td>\n",
       "      <td>False</td>\n",
       "      <td>False</td>\n",
       "      <td>False</td>\n",
       "      <td>False</td>\n",
       "      <td>False</td>\n",
       "      <td>False</td>\n",
       "      <td>False</td>\n",
       "      <td>False</td>\n",
       "      <td>False</td>\n",
       "    </tr>\n",
       "    <tr>\n",
       "      <th>1</th>\n",
       "      <td>A-Bomb</td>\n",
       "      <td>False</td>\n",
       "      <td>True</td>\n",
       "      <td>False</td>\n",
       "      <td>False</td>\n",
       "      <td>False</td>\n",
       "      <td>True</td>\n",
       "      <td>False</td>\n",
       "      <td>False</td>\n",
       "      <td>False</td>\n",
       "      <td>...</td>\n",
       "      <td>False</td>\n",
       "      <td>False</td>\n",
       "      <td>False</td>\n",
       "      <td>False</td>\n",
       "      <td>False</td>\n",
       "      <td>False</td>\n",
       "      <td>False</td>\n",
       "      <td>False</td>\n",
       "      <td>False</td>\n",
       "      <td>False</td>\n",
       "    </tr>\n",
       "    <tr>\n",
       "      <th>2</th>\n",
       "      <td>Abe Sapien</td>\n",
       "      <td>True</td>\n",
       "      <td>True</td>\n",
       "      <td>False</td>\n",
       "      <td>False</td>\n",
       "      <td>True</td>\n",
       "      <td>True</td>\n",
       "      <td>False</td>\n",
       "      <td>False</td>\n",
       "      <td>False</td>\n",
       "      <td>...</td>\n",
       "      <td>False</td>\n",
       "      <td>False</td>\n",
       "      <td>False</td>\n",
       "      <td>False</td>\n",
       "      <td>False</td>\n",
       "      <td>False</td>\n",
       "      <td>False</td>\n",
       "      <td>False</td>\n",
       "      <td>False</td>\n",
       "      <td>False</td>\n",
       "    </tr>\n",
       "    <tr>\n",
       "      <th>3</th>\n",
       "      <td>Abin Sur</td>\n",
       "      <td>False</td>\n",
       "      <td>False</td>\n",
       "      <td>True</td>\n",
       "      <td>False</td>\n",
       "      <td>False</td>\n",
       "      <td>False</td>\n",
       "      <td>False</td>\n",
       "      <td>False</td>\n",
       "      <td>False</td>\n",
       "      <td>...</td>\n",
       "      <td>False</td>\n",
       "      <td>False</td>\n",
       "      <td>False</td>\n",
       "      <td>False</td>\n",
       "      <td>False</td>\n",
       "      <td>False</td>\n",
       "      <td>False</td>\n",
       "      <td>False</td>\n",
       "      <td>False</td>\n",
       "      <td>False</td>\n",
       "    </tr>\n",
       "    <tr>\n",
       "      <th>4</th>\n",
       "      <td>Abomination</td>\n",
       "      <td>False</td>\n",
       "      <td>True</td>\n",
       "      <td>False</td>\n",
       "      <td>False</td>\n",
       "      <td>False</td>\n",
       "      <td>False</td>\n",
       "      <td>False</td>\n",
       "      <td>False</td>\n",
       "      <td>False</td>\n",
       "      <td>...</td>\n",
       "      <td>False</td>\n",
       "      <td>False</td>\n",
       "      <td>False</td>\n",
       "      <td>False</td>\n",
       "      <td>False</td>\n",
       "      <td>False</td>\n",
       "      <td>False</td>\n",
       "      <td>False</td>\n",
       "      <td>False</td>\n",
       "      <td>False</td>\n",
       "    </tr>\n",
       "  </tbody>\n",
       "</table>\n",
       "<p>5 rows × 168 columns</p>\n",
       "</div>"
      ],
      "text/plain": [
       "    hero_names  Agility  Accelerated Healing  Lantern Power Ring  \\\n",
       "0      3-D Man     True                False               False   \n",
       "1       A-Bomb    False                 True               False   \n",
       "2   Abe Sapien     True                 True               False   \n",
       "3     Abin Sur    False                False                True   \n",
       "4  Abomination    False                 True               False   \n",
       "\n",
       "   Dimensional Awareness  Cold Resistance  Durability  Stealth  \\\n",
       "0                  False            False       False    False   \n",
       "1                  False            False        True    False   \n",
       "2                  False             True        True    False   \n",
       "3                  False            False       False    False   \n",
       "4                  False            False       False    False   \n",
       "\n",
       "   Energy Absorption  Flight     ...      Web Creation  Reality Warping  \\\n",
       "0              False   False     ...             False            False   \n",
       "1              False   False     ...             False            False   \n",
       "2              False   False     ...             False            False   \n",
       "3              False   False     ...             False            False   \n",
       "4              False   False     ...             False            False   \n",
       "\n",
       "   Odin Force  Symbiote Costume  Speed Force  Phoenix Force  \\\n",
       "0       False             False        False          False   \n",
       "1       False             False        False          False   \n",
       "2       False             False        False          False   \n",
       "3       False             False        False          False   \n",
       "4       False             False        False          False   \n",
       "\n",
       "   Molecular Dissipation  Vision - Cryo  Omnipresent  Omniscient  \n",
       "0                  False          False        False       False  \n",
       "1                  False          False        False       False  \n",
       "2                  False          False        False       False  \n",
       "3                  False          False        False       False  \n",
       "4                  False          False        False       False  \n",
       "\n",
       "[5 rows x 168 columns]"
      ]
     },
     "metadata": {},
     "output_type": "display_data"
    }
   ],
   "source": [
    "heroes_df = pd.read_csv('heroes_information.csv')\n",
    "powers_df = pd.read_csv('super_hero_powers.csv')\n",
    "display(heroes_df.head())\n",
    "display(powers_df.head())"
   ]
  },
  {
   "cell_type": "markdown",
   "metadata": {},
   "source": [
    "It looks as if the heroes information dataset contained an index column.  We did not specify that this dataset contained an index column, because we hadn't seen it yet. Pandas does not know how to tell apart an index column from any other data, so it stored it with the column name `Unnamed: 0`.  \n",
    "\n",
    "Our DataFrame provided row indices by default, so this column is not needed.  Drop it from the DataFrame in place in the cell below, and then display the head of `heroes_df` to ensure that it worked properly. "
   ]
  },
  {
   "cell_type": "code",
   "execution_count": 3,
   "metadata": {},
   "outputs": [
    {
     "data": {
      "text/html": [
       "<div>\n",
       "<style scoped>\n",
       "    .dataframe tbody tr th:only-of-type {\n",
       "        vertical-align: middle;\n",
       "    }\n",
       "\n",
       "    .dataframe tbody tr th {\n",
       "        vertical-align: top;\n",
       "    }\n",
       "\n",
       "    .dataframe thead th {\n",
       "        text-align: right;\n",
       "    }\n",
       "</style>\n",
       "<table border=\"1\" class=\"dataframe\">\n",
       "  <thead>\n",
       "    <tr style=\"text-align: right;\">\n",
       "      <th></th>\n",
       "      <th>name</th>\n",
       "      <th>Gender</th>\n",
       "      <th>Eye color</th>\n",
       "      <th>Race</th>\n",
       "      <th>Hair color</th>\n",
       "      <th>Height</th>\n",
       "      <th>Publisher</th>\n",
       "      <th>Skin color</th>\n",
       "      <th>Alignment</th>\n",
       "      <th>Weight</th>\n",
       "    </tr>\n",
       "  </thead>\n",
       "  <tbody>\n",
       "    <tr>\n",
       "      <th>0</th>\n",
       "      <td>A-Bomb</td>\n",
       "      <td>Male</td>\n",
       "      <td>yellow</td>\n",
       "      <td>Human</td>\n",
       "      <td>No Hair</td>\n",
       "      <td>203.0</td>\n",
       "      <td>Marvel Comics</td>\n",
       "      <td>-</td>\n",
       "      <td>good</td>\n",
       "      <td>441.0</td>\n",
       "    </tr>\n",
       "    <tr>\n",
       "      <th>1</th>\n",
       "      <td>Abe Sapien</td>\n",
       "      <td>Male</td>\n",
       "      <td>blue</td>\n",
       "      <td>Icthyo Sapien</td>\n",
       "      <td>No Hair</td>\n",
       "      <td>191.0</td>\n",
       "      <td>Dark Horse Comics</td>\n",
       "      <td>blue</td>\n",
       "      <td>good</td>\n",
       "      <td>65.0</td>\n",
       "    </tr>\n",
       "    <tr>\n",
       "      <th>2</th>\n",
       "      <td>Abin Sur</td>\n",
       "      <td>Male</td>\n",
       "      <td>blue</td>\n",
       "      <td>Ungaran</td>\n",
       "      <td>No Hair</td>\n",
       "      <td>185.0</td>\n",
       "      <td>DC Comics</td>\n",
       "      <td>red</td>\n",
       "      <td>good</td>\n",
       "      <td>90.0</td>\n",
       "    </tr>\n",
       "    <tr>\n",
       "      <th>3</th>\n",
       "      <td>Abomination</td>\n",
       "      <td>Male</td>\n",
       "      <td>green</td>\n",
       "      <td>Human / Radiation</td>\n",
       "      <td>No Hair</td>\n",
       "      <td>203.0</td>\n",
       "      <td>Marvel Comics</td>\n",
       "      <td>-</td>\n",
       "      <td>bad</td>\n",
       "      <td>441.0</td>\n",
       "    </tr>\n",
       "    <tr>\n",
       "      <th>4</th>\n",
       "      <td>Abraxas</td>\n",
       "      <td>Male</td>\n",
       "      <td>blue</td>\n",
       "      <td>Cosmic Entity</td>\n",
       "      <td>Black</td>\n",
       "      <td>-99.0</td>\n",
       "      <td>Marvel Comics</td>\n",
       "      <td>-</td>\n",
       "      <td>bad</td>\n",
       "      <td>-99.0</td>\n",
       "    </tr>\n",
       "  </tbody>\n",
       "</table>\n",
       "</div>"
      ],
      "text/plain": [
       "          name Gender Eye color               Race Hair color  Height  \\\n",
       "0       A-Bomb   Male    yellow              Human    No Hair   203.0   \n",
       "1   Abe Sapien   Male      blue      Icthyo Sapien    No Hair   191.0   \n",
       "2     Abin Sur   Male      blue            Ungaran    No Hair   185.0   \n",
       "3  Abomination   Male     green  Human / Radiation    No Hair   203.0   \n",
       "4      Abraxas   Male      blue      Cosmic Entity      Black   -99.0   \n",
       "\n",
       "           Publisher Skin color Alignment  Weight  \n",
       "0      Marvel Comics          -      good   441.0  \n",
       "1  Dark Horse Comics       blue      good    65.0  \n",
       "2          DC Comics        red      good    90.0  \n",
       "3      Marvel Comics          -       bad   441.0  \n",
       "4      Marvel Comics          -       bad   -99.0  "
      ]
     },
     "execution_count": 3,
     "metadata": {},
     "output_type": "execute_result"
    }
   ],
   "source": [
    "heroes_df.drop(\"Unnamed: 0\", axis=1, inplace=True)\n",
    "heroes_df.head()"
   ]
  },
  {
   "cell_type": "markdown",
   "metadata": {},
   "source": [
    "heroes_df.name.unique() - heroes_df.name.nunique() - heroes_df.name.count() - heroes_df[~heroes_df.duplicated(subset='name')] - heroes_df.replace(-99, np.nan) - heroes_df['Weight'].fillna(heroes_df['Weight'].mean())"
   ]
  },
  {
   "cell_type": "markdown",
   "metadata": {},
   "source": [
    "## Familiarize Yourself With the Dataset\n",
    "\n",
    "The first step in our Exploratory Data Analysis will be to get familiar with the data.  This step includes:\n",
    "\n",
    "* Understanding the dimensionality of your dataset\n",
    "* Investigating what type of data it contains, and the data types used to store it\n",
    "* Discovering how missing values are encoded, and how many there are\n",
    "* Getting a feel for what information it does and doesn't contain\n",
    "\n",
    "In the cell below, get the descriptive statistics of each DataFrame.  "
   ]
  },
  {
   "cell_type": "code",
   "execution_count": 4,
   "metadata": {},
   "outputs": [
    {
     "data": {
      "text/html": [
       "<div>\n",
       "<style scoped>\n",
       "    .dataframe tbody tr th:only-of-type {\n",
       "        vertical-align: middle;\n",
       "    }\n",
       "\n",
       "    .dataframe tbody tr th {\n",
       "        vertical-align: top;\n",
       "    }\n",
       "\n",
       "    .dataframe thead th {\n",
       "        text-align: right;\n",
       "    }\n",
       "</style>\n",
       "<table border=\"1\" class=\"dataframe\">\n",
       "  <thead>\n",
       "    <tr style=\"text-align: right;\">\n",
       "      <th></th>\n",
       "      <th>Height</th>\n",
       "      <th>Weight</th>\n",
       "    </tr>\n",
       "  </thead>\n",
       "  <tbody>\n",
       "    <tr>\n",
       "      <th>count</th>\n",
       "      <td>734.000000</td>\n",
       "      <td>732.000000</td>\n",
       "    </tr>\n",
       "    <tr>\n",
       "      <th>mean</th>\n",
       "      <td>102.254087</td>\n",
       "      <td>43.855191</td>\n",
       "    </tr>\n",
       "    <tr>\n",
       "      <th>std</th>\n",
       "      <td>139.624543</td>\n",
       "      <td>130.823733</td>\n",
       "    </tr>\n",
       "    <tr>\n",
       "      <th>min</th>\n",
       "      <td>-99.000000</td>\n",
       "      <td>-99.000000</td>\n",
       "    </tr>\n",
       "    <tr>\n",
       "      <th>25%</th>\n",
       "      <td>-99.000000</td>\n",
       "      <td>-99.000000</td>\n",
       "    </tr>\n",
       "    <tr>\n",
       "      <th>50%</th>\n",
       "      <td>175.000000</td>\n",
       "      <td>62.000000</td>\n",
       "    </tr>\n",
       "    <tr>\n",
       "      <th>75%</th>\n",
       "      <td>185.000000</td>\n",
       "      <td>90.000000</td>\n",
       "    </tr>\n",
       "    <tr>\n",
       "      <th>max</th>\n",
       "      <td>975.000000</td>\n",
       "      <td>900.000000</td>\n",
       "    </tr>\n",
       "  </tbody>\n",
       "</table>\n",
       "</div>"
      ],
      "text/plain": [
       "           Height      Weight\n",
       "count  734.000000  732.000000\n",
       "mean   102.254087   43.855191\n",
       "std    139.624543  130.823733\n",
       "min    -99.000000  -99.000000\n",
       "25%    -99.000000  -99.000000\n",
       "50%    175.000000   62.000000\n",
       "75%    185.000000   90.000000\n",
       "max    975.000000  900.000000"
      ]
     },
     "metadata": {},
     "output_type": "display_data"
    },
    {
     "data": {
      "text/html": [
       "<div>\n",
       "<style scoped>\n",
       "    .dataframe tbody tr th:only-of-type {\n",
       "        vertical-align: middle;\n",
       "    }\n",
       "\n",
       "    .dataframe tbody tr th {\n",
       "        vertical-align: top;\n",
       "    }\n",
       "\n",
       "    .dataframe thead th {\n",
       "        text-align: right;\n",
       "    }\n",
       "</style>\n",
       "<table border=\"1\" class=\"dataframe\">\n",
       "  <thead>\n",
       "    <tr style=\"text-align: right;\">\n",
       "      <th></th>\n",
       "      <th>hero_names</th>\n",
       "      <th>Agility</th>\n",
       "      <th>Accelerated Healing</th>\n",
       "      <th>Lantern Power Ring</th>\n",
       "      <th>Dimensional Awareness</th>\n",
       "      <th>Cold Resistance</th>\n",
       "      <th>Durability</th>\n",
       "      <th>Stealth</th>\n",
       "      <th>Energy Absorption</th>\n",
       "      <th>Flight</th>\n",
       "      <th>...</th>\n",
       "      <th>Web Creation</th>\n",
       "      <th>Reality Warping</th>\n",
       "      <th>Odin Force</th>\n",
       "      <th>Symbiote Costume</th>\n",
       "      <th>Speed Force</th>\n",
       "      <th>Phoenix Force</th>\n",
       "      <th>Molecular Dissipation</th>\n",
       "      <th>Vision - Cryo</th>\n",
       "      <th>Omnipresent</th>\n",
       "      <th>Omniscient</th>\n",
       "    </tr>\n",
       "  </thead>\n",
       "  <tbody>\n",
       "    <tr>\n",
       "      <th>count</th>\n",
       "      <td>667</td>\n",
       "      <td>667</td>\n",
       "      <td>667</td>\n",
       "      <td>667</td>\n",
       "      <td>667</td>\n",
       "      <td>667</td>\n",
       "      <td>667</td>\n",
       "      <td>667</td>\n",
       "      <td>667</td>\n",
       "      <td>667</td>\n",
       "      <td>...</td>\n",
       "      <td>667</td>\n",
       "      <td>667</td>\n",
       "      <td>667</td>\n",
       "      <td>667</td>\n",
       "      <td>667</td>\n",
       "      <td>667</td>\n",
       "      <td>667</td>\n",
       "      <td>667</td>\n",
       "      <td>667</td>\n",
       "      <td>667</td>\n",
       "    </tr>\n",
       "    <tr>\n",
       "      <th>unique</th>\n",
       "      <td>667</td>\n",
       "      <td>2</td>\n",
       "      <td>2</td>\n",
       "      <td>2</td>\n",
       "      <td>2</td>\n",
       "      <td>2</td>\n",
       "      <td>2</td>\n",
       "      <td>2</td>\n",
       "      <td>2</td>\n",
       "      <td>2</td>\n",
       "      <td>...</td>\n",
       "      <td>2</td>\n",
       "      <td>2</td>\n",
       "      <td>2</td>\n",
       "      <td>2</td>\n",
       "      <td>2</td>\n",
       "      <td>2</td>\n",
       "      <td>2</td>\n",
       "      <td>2</td>\n",
       "      <td>2</td>\n",
       "      <td>2</td>\n",
       "    </tr>\n",
       "    <tr>\n",
       "      <th>top</th>\n",
       "      <td>Beast</td>\n",
       "      <td>False</td>\n",
       "      <td>False</td>\n",
       "      <td>False</td>\n",
       "      <td>False</td>\n",
       "      <td>False</td>\n",
       "      <td>False</td>\n",
       "      <td>False</td>\n",
       "      <td>False</td>\n",
       "      <td>False</td>\n",
       "      <td>...</td>\n",
       "      <td>False</td>\n",
       "      <td>False</td>\n",
       "      <td>False</td>\n",
       "      <td>False</td>\n",
       "      <td>False</td>\n",
       "      <td>False</td>\n",
       "      <td>False</td>\n",
       "      <td>False</td>\n",
       "      <td>False</td>\n",
       "      <td>False</td>\n",
       "    </tr>\n",
       "    <tr>\n",
       "      <th>freq</th>\n",
       "      <td>1</td>\n",
       "      <td>425</td>\n",
       "      <td>489</td>\n",
       "      <td>656</td>\n",
       "      <td>642</td>\n",
       "      <td>620</td>\n",
       "      <td>410</td>\n",
       "      <td>541</td>\n",
       "      <td>590</td>\n",
       "      <td>455</td>\n",
       "      <td>...</td>\n",
       "      <td>653</td>\n",
       "      <td>651</td>\n",
       "      <td>665</td>\n",
       "      <td>658</td>\n",
       "      <td>666</td>\n",
       "      <td>666</td>\n",
       "      <td>666</td>\n",
       "      <td>665</td>\n",
       "      <td>665</td>\n",
       "      <td>665</td>\n",
       "    </tr>\n",
       "  </tbody>\n",
       "</table>\n",
       "<p>4 rows × 168 columns</p>\n",
       "</div>"
      ],
      "text/plain": [
       "       hero_names Agility Accelerated Healing Lantern Power Ring  \\\n",
       "count         667     667                 667                667   \n",
       "unique        667       2                   2                  2   \n",
       "top         Beast   False               False              False   \n",
       "freq            1     425                 489                656   \n",
       "\n",
       "       Dimensional Awareness Cold Resistance Durability Stealth  \\\n",
       "count                    667             667        667     667   \n",
       "unique                     2               2          2       2   \n",
       "top                    False           False      False   False   \n",
       "freq                     642             620        410     541   \n",
       "\n",
       "       Energy Absorption Flight    ...     Web Creation Reality Warping  \\\n",
       "count                667    667    ...              667             667   \n",
       "unique                 2      2    ...                2               2   \n",
       "top                False  False    ...            False           False   \n",
       "freq                 590    455    ...              653             651   \n",
       "\n",
       "       Odin Force Symbiote Costume Speed Force Phoenix Force  \\\n",
       "count         667              667         667           667   \n",
       "unique          2                2           2             2   \n",
       "top         False            False       False         False   \n",
       "freq          665              658         666           666   \n",
       "\n",
       "       Molecular Dissipation Vision - Cryo Omnipresent Omniscient  \n",
       "count                    667           667         667        667  \n",
       "unique                     2             2           2          2  \n",
       "top                    False         False       False      False  \n",
       "freq                     666           665         665        665  \n",
       "\n",
       "[4 rows x 168 columns]"
      ]
     },
     "execution_count": 4,
     "metadata": {},
     "output_type": "execute_result"
    }
   ],
   "source": [
    "display(heroes_df.describe())\n",
    "powers_df.describe()"
   ]
  },
  {
   "cell_type": "markdown",
   "metadata": {},
   "source": [
    "## Dealing with Null Values\n",
    "\n",
    "Starting in the cell below, detect and deal with any null values in either data frame.  Then, explain your methodology for detecting and dealing with outliers in the markdown section below.  Be sure to explain your strategy for dealing with null values in numeric columns, as well as your strategy for dealing with null values in non-numeric columns.  \n",
    "\n",
    "Note that if you need to add more cells to write code in, you can do this by:\n",
    "\n",
    "**1.** Highlighting a cell and then pressing `ESC` to enter command mode.  \n",
    "**2.** Press `A` to add a cell above the highlighted cell, or `B` to add a cell below the highlighted cell. \n",
    "\n",
    "Describe your strategy below this line:\n",
    "____________________________________________________________________________________________________________________________\n",
    "\n",
    "\n"
   ]
  },
  {
   "cell_type": "markdown",
   "metadata": {},
   "source": [
    "The Weight and Publisher columns contain null values. I will replace null values in Weight column with the Weight. Publisher is a categorical column, we can leave them as is since it is only 15 values."
   ]
  },
  {
   "cell_type": "code",
   "execution_count": 12,
   "metadata": {},
   "outputs": [
    {
     "data": {
      "text/plain": [
       "name          False\n",
       "Gender        False\n",
       "Eye color     False\n",
       "Race          False\n",
       "Hair color    False\n",
       "Height        False\n",
       "Publisher      True\n",
       "Skin color    False\n",
       "Alignment     False\n",
       "Weight         True\n",
       "dtype: bool"
      ]
     },
     "execution_count": 12,
     "metadata": {},
     "output_type": "execute_result"
    }
   ],
   "source": [
    "heroes_df.isna().any()"
   ]
  },
  {
   "cell_type": "code",
   "execution_count": 13,
   "metadata": {},
   "outputs": [
    {
     "data": {
      "text/plain": [
       "name           0\n",
       "Gender         0\n",
       "Eye color      0\n",
       "Race           0\n",
       "Hair color     0\n",
       "Height         0\n",
       "Publisher     15\n",
       "Skin color     0\n",
       "Alignment      0\n",
       "Weight         2\n",
       "dtype: int64"
      ]
     },
     "execution_count": 13,
     "metadata": {},
     "output_type": "execute_result"
    }
   ],
   "source": [
    "heroes_df.isna().sum()"
   ]
  },
  {
   "cell_type": "code",
   "execution_count": 7,
   "metadata": {},
   "outputs": [
    {
     "data": {
      "text/plain": [
       "mean       43.855191\n",
       "median     62.000000\n",
       "std       130.823733\n",
       "Name: Weight, dtype: float64"
      ]
     },
     "execution_count": 7,
     "metadata": {},
     "output_type": "execute_result"
    }
   ],
   "source": [
    "heroes_df.Weight.agg(['mean', 'median', 'std'])"
   ]
  },
  {
   "cell_type": "code",
   "execution_count": 8,
   "metadata": {},
   "outputs": [
    {
     "data": {
      "text/plain": [
       "name           0\n",
       "Gender         0\n",
       "Eye color      0\n",
       "Race           0\n",
       "Hair color     0\n",
       "Height         0\n",
       "Publisher     15\n",
       "Skin color     0\n",
       "Alignment      0\n",
       "Weight         0\n",
       "dtype: int64"
      ]
     },
     "execution_count": 8,
     "metadata": {},
     "output_type": "execute_result"
    }
   ],
   "source": [
    "# Since only 2 values are missing from the Weight column, I am going to replace them with the mean\n",
    "mean_weight = heroes_df.Weight.mean()\n",
    "heroes_df['Weight'].fillna(mean_weight, inplace=True)\n",
    "heroes_df.isna().sum()"
   ]
  },
  {
   "cell_type": "code",
   "execution_count": 14,
   "metadata": {},
   "outputs": [
    {
     "data": {
      "text/plain": [
       "False"
      ]
     },
     "execution_count": 14,
     "metadata": {},
     "output_type": "execute_result"
    }
   ],
   "source": [
    "powers_df.isna().any().any()"
   ]
  },
  {
   "cell_type": "markdown",
   "metadata": {},
   "source": [
    "## Joining, Grouping, and Aggregating\n",
    "\n",
    "In the cell below, join the two DataFrames.  Think about which sort of join you should use, as well as which columns you should join on.  Rename columns and manipulate as needed.  \n",
    "\n",
    "**_HINT:_** If the join throws an error message, consider setting the column you want to join on as the index for each DataFrame.  "
   ]
  },
  {
   "cell_type": "code",
   "execution_count": 15,
   "metadata": {},
   "outputs": [],
   "source": [
    "powers_df.rename(columns={'hero_names':'name'}, inplace=True)"
   ]
  },
  {
   "cell_type": "code",
   "execution_count": 16,
   "metadata": {},
   "outputs": [],
   "source": [
    "powers_df  = powers_df.astype('str')"
   ]
  },
  {
   "cell_type": "code",
   "execution_count": 17,
   "metadata": {},
   "outputs": [
    {
     "data": {
      "text/html": [
       "<div>\n",
       "<style scoped>\n",
       "    .dataframe tbody tr th:only-of-type {\n",
       "        vertical-align: middle;\n",
       "    }\n",
       "\n",
       "    .dataframe tbody tr th {\n",
       "        vertical-align: top;\n",
       "    }\n",
       "\n",
       "    .dataframe thead th {\n",
       "        text-align: right;\n",
       "    }\n",
       "</style>\n",
       "<table border=\"1\" class=\"dataframe\">\n",
       "  <thead>\n",
       "    <tr style=\"text-align: right;\">\n",
       "      <th></th>\n",
       "      <th>Agility</th>\n",
       "      <th>Accelerated Healing</th>\n",
       "      <th>Lantern Power Ring</th>\n",
       "      <th>Dimensional Awareness</th>\n",
       "      <th>Cold Resistance</th>\n",
       "      <th>Durability</th>\n",
       "      <th>Stealth</th>\n",
       "      <th>Energy Absorption</th>\n",
       "      <th>Flight</th>\n",
       "      <th>Danger Sense</th>\n",
       "      <th>...</th>\n",
       "      <th>Omniscient</th>\n",
       "      <th>Gender</th>\n",
       "      <th>Eye color</th>\n",
       "      <th>Race</th>\n",
       "      <th>Hair color</th>\n",
       "      <th>Height</th>\n",
       "      <th>Publisher</th>\n",
       "      <th>Skin color</th>\n",
       "      <th>Alignment</th>\n",
       "      <th>Weight</th>\n",
       "    </tr>\n",
       "    <tr>\n",
       "      <th>name</th>\n",
       "      <th></th>\n",
       "      <th></th>\n",
       "      <th></th>\n",
       "      <th></th>\n",
       "      <th></th>\n",
       "      <th></th>\n",
       "      <th></th>\n",
       "      <th></th>\n",
       "      <th></th>\n",
       "      <th></th>\n",
       "      <th></th>\n",
       "      <th></th>\n",
       "      <th></th>\n",
       "      <th></th>\n",
       "      <th></th>\n",
       "      <th></th>\n",
       "      <th></th>\n",
       "      <th></th>\n",
       "      <th></th>\n",
       "      <th></th>\n",
       "      <th></th>\n",
       "    </tr>\n",
       "  </thead>\n",
       "  <tbody>\n",
       "    <tr>\n",
       "      <th>A-Bomb</th>\n",
       "      <td>False</td>\n",
       "      <td>True</td>\n",
       "      <td>False</td>\n",
       "      <td>False</td>\n",
       "      <td>False</td>\n",
       "      <td>True</td>\n",
       "      <td>False</td>\n",
       "      <td>False</td>\n",
       "      <td>False</td>\n",
       "      <td>False</td>\n",
       "      <td>...</td>\n",
       "      <td>False</td>\n",
       "      <td>Male</td>\n",
       "      <td>yellow</td>\n",
       "      <td>Human</td>\n",
       "      <td>No Hair</td>\n",
       "      <td>203.0</td>\n",
       "      <td>Marvel Comics</td>\n",
       "      <td>-</td>\n",
       "      <td>good</td>\n",
       "      <td>441.0</td>\n",
       "    </tr>\n",
       "    <tr>\n",
       "      <th>Abe Sapien</th>\n",
       "      <td>True</td>\n",
       "      <td>True</td>\n",
       "      <td>False</td>\n",
       "      <td>False</td>\n",
       "      <td>True</td>\n",
       "      <td>True</td>\n",
       "      <td>False</td>\n",
       "      <td>False</td>\n",
       "      <td>False</td>\n",
       "      <td>False</td>\n",
       "      <td>...</td>\n",
       "      <td>False</td>\n",
       "      <td>Male</td>\n",
       "      <td>blue</td>\n",
       "      <td>Icthyo Sapien</td>\n",
       "      <td>No Hair</td>\n",
       "      <td>191.0</td>\n",
       "      <td>Dark Horse Comics</td>\n",
       "      <td>blue</td>\n",
       "      <td>good</td>\n",
       "      <td>65.0</td>\n",
       "    </tr>\n",
       "    <tr>\n",
       "      <th>Abin Sur</th>\n",
       "      <td>False</td>\n",
       "      <td>False</td>\n",
       "      <td>True</td>\n",
       "      <td>False</td>\n",
       "      <td>False</td>\n",
       "      <td>False</td>\n",
       "      <td>False</td>\n",
       "      <td>False</td>\n",
       "      <td>False</td>\n",
       "      <td>False</td>\n",
       "      <td>...</td>\n",
       "      <td>False</td>\n",
       "      <td>Male</td>\n",
       "      <td>blue</td>\n",
       "      <td>Ungaran</td>\n",
       "      <td>No Hair</td>\n",
       "      <td>185.0</td>\n",
       "      <td>DC Comics</td>\n",
       "      <td>red</td>\n",
       "      <td>good</td>\n",
       "      <td>90.0</td>\n",
       "    </tr>\n",
       "    <tr>\n",
       "      <th>Abomination</th>\n",
       "      <td>False</td>\n",
       "      <td>True</td>\n",
       "      <td>False</td>\n",
       "      <td>False</td>\n",
       "      <td>False</td>\n",
       "      <td>False</td>\n",
       "      <td>False</td>\n",
       "      <td>False</td>\n",
       "      <td>False</td>\n",
       "      <td>False</td>\n",
       "      <td>...</td>\n",
       "      <td>False</td>\n",
       "      <td>Male</td>\n",
       "      <td>green</td>\n",
       "      <td>Human / Radiation</td>\n",
       "      <td>No Hair</td>\n",
       "      <td>203.0</td>\n",
       "      <td>Marvel Comics</td>\n",
       "      <td>-</td>\n",
       "      <td>bad</td>\n",
       "      <td>441.0</td>\n",
       "    </tr>\n",
       "    <tr>\n",
       "      <th>Abraxas</th>\n",
       "      <td>False</td>\n",
       "      <td>False</td>\n",
       "      <td>False</td>\n",
       "      <td>True</td>\n",
       "      <td>False</td>\n",
       "      <td>False</td>\n",
       "      <td>False</td>\n",
       "      <td>False</td>\n",
       "      <td>True</td>\n",
       "      <td>False</td>\n",
       "      <td>...</td>\n",
       "      <td>False</td>\n",
       "      <td>Male</td>\n",
       "      <td>blue</td>\n",
       "      <td>Cosmic Entity</td>\n",
       "      <td>Black</td>\n",
       "      <td>-99.0</td>\n",
       "      <td>Marvel Comics</td>\n",
       "      <td>-</td>\n",
       "      <td>bad</td>\n",
       "      <td>-99.0</td>\n",
       "    </tr>\n",
       "  </tbody>\n",
       "</table>\n",
       "<p>5 rows × 176 columns</p>\n",
       "</div>"
      ],
      "text/plain": [
       "            Agility Accelerated Healing Lantern Power Ring  \\\n",
       "name                                                         \n",
       "A-Bomb        False                True              False   \n",
       "Abe Sapien     True                True              False   \n",
       "Abin Sur      False               False               True   \n",
       "Abomination   False                True              False   \n",
       "Abraxas       False               False              False   \n",
       "\n",
       "            Dimensional Awareness Cold Resistance Durability Stealth  \\\n",
       "name                                                                   \n",
       "A-Bomb                      False           False       True   False   \n",
       "Abe Sapien                  False            True       True   False   \n",
       "Abin Sur                    False           False      False   False   \n",
       "Abomination                 False           False      False   False   \n",
       "Abraxas                      True           False      False   False   \n",
       "\n",
       "            Energy Absorption Flight Danger Sense  ...   Omniscient Gender  \\\n",
       "name                                               ...                       \n",
       "A-Bomb                  False  False        False  ...        False   Male   \n",
       "Abe Sapien              False  False        False  ...        False   Male   \n",
       "Abin Sur                False  False        False  ...        False   Male   \n",
       "Abomination             False  False        False  ...        False   Male   \n",
       "Abraxas                 False   True        False  ...        False   Male   \n",
       "\n",
       "            Eye color               Race Hair color Height          Publisher  \\\n",
       "name                                                                            \n",
       "A-Bomb         yellow              Human    No Hair  203.0      Marvel Comics   \n",
       "Abe Sapien       blue      Icthyo Sapien    No Hair  191.0  Dark Horse Comics   \n",
       "Abin Sur         blue            Ungaran    No Hair  185.0          DC Comics   \n",
       "Abomination     green  Human / Radiation    No Hair  203.0      Marvel Comics   \n",
       "Abraxas          blue      Cosmic Entity      Black  -99.0      Marvel Comics   \n",
       "\n",
       "            Skin color Alignment Weight  \n",
       "name                                     \n",
       "A-Bomb               -      good  441.0  \n",
       "Abe Sapien        blue      good   65.0  \n",
       "Abin Sur           red      good   90.0  \n",
       "Abomination          -       bad  441.0  \n",
       "Abraxas              -       bad  -99.0  \n",
       "\n",
       "[5 rows x 176 columns]"
      ]
     },
     "execution_count": 17,
     "metadata": {},
     "output_type": "execute_result"
    }
   ],
   "source": [
    "heroes_and_powers_df = powers_df.set_index('name').join(heroes_df.set_index('name'), how='inner')\n",
    "heroes_and_powers_df.head()"
   ]
  },
  {
   "cell_type": "markdown",
   "metadata": {},
   "source": [
    "In the cell below, subset male and female heroes into different dataframes.  Create a scatterplot of the height and weight of each hero, with weight as the y-axis.  Plot both the male and female heroes subset into each dataframe, and make the color for each point in the scatterplot correspond to the gender of the superhero."
   ]
  },
  {
   "cell_type": "code",
   "execution_count": 18,
   "metadata": {},
   "outputs": [
    {
     "data": {
      "text/plain": [
       "Agility                   0\n",
       "Accelerated Healing       0\n",
       "Lantern Power Ring        0\n",
       "Dimensional Awareness     0\n",
       "Cold Resistance           0\n",
       "Durability                0\n",
       "Stealth                   0\n",
       "Energy Absorption         0\n",
       "Flight                    0\n",
       "Danger Sense              0\n",
       "Underwater breathing      0\n",
       "Marksmanship              0\n",
       "Weapons Master            0\n",
       "Power Augmentation        0\n",
       "Animal Attributes         0\n",
       "Longevity                 0\n",
       "Intelligence              0\n",
       "Super Strength            0\n",
       "Cryokinesis               0\n",
       "Telepathy                 0\n",
       "Energy Armor              0\n",
       "Energy Blasts             0\n",
       "Duplication               0\n",
       "Size Changing             0\n",
       "Density Control           0\n",
       "Stamina                   0\n",
       "Astral Travel             0\n",
       "Audio Control             0\n",
       "Dexterity                 0\n",
       "Omnitrix                  0\n",
       "                         ..\n",
       "Matter Absorption         0\n",
       "The Force                 0\n",
       "Resurrection              0\n",
       "Terrakinesis              0\n",
       "Vision - Heat             0\n",
       "Vitakinesis               0\n",
       "Radar Sense               0\n",
       "Qwardian Power Ring       0\n",
       "Weather Control           0\n",
       "Vision - X-Ray            0\n",
       "Vision - Thermal          0\n",
       "Web Creation              0\n",
       "Reality Warping           0\n",
       "Odin Force                0\n",
       "Symbiote Costume          0\n",
       "Speed Force               0\n",
       "Phoenix Force             0\n",
       "Molecular Dissipation     0\n",
       "Vision - Cryo             0\n",
       "Omnipresent               0\n",
       "Omniscient                0\n",
       "Gender                    0\n",
       "Eye color                 0\n",
       "Race                      0\n",
       "Hair color                0\n",
       "Height                    0\n",
       "Publisher                13\n",
       "Skin color                0\n",
       "Alignment                 0\n",
       "Weight                    0\n",
       "Length: 176, dtype: int64"
      ]
     },
     "execution_count": 18,
     "metadata": {},
     "output_type": "execute_result"
    }
   ],
   "source": [
    "heroes_and_powers_df.isna().sum()"
   ]
  },
  {
   "cell_type": "markdown",
   "metadata": {},
   "source": [
    "## Some Initial Investigation\n",
    "\n",
    "Next, slice the DataFrame as needed and visualize the distribution of heights and weights by gender.  You should have 4 total plots.  \n",
    "\n",
    "In the cell below:\n",
    "\n",
    "* Slice the DataFrame into separate DataFrames by gender\n",
    "* Complete the `show_distplot` function.  This helper function should take in a DataFrame, a string containing the gender we want to visualize, and and the column name we want to visualize by gender. The function should display a distplot visualization from seaborn of the column/gender combination.  \n",
    "\n",
    "Hint: Don't forget to check the [seaborn documentation for distplot](https://seaborn.pydata.org/generated/seaborn.distplot.html) if you have questions about how to use it correctly! "
   ]
  },
  {
   "cell_type": "code",
   "execution_count": 22,
   "metadata": {},
   "outputs": [],
   "source": [
    "male_heroes_df = heroes_and_powers_df[heroes_and_powers_df.Gender == 'Male']\n",
    "female_heroes_df = heroes_and_powers_df[heroes_and_powers_df.Gender == 'Female']\n",
    "\n",
    "def show_distplot(dataframe, gender, column_name):\n",
    "    plt.plot()\n",
    "    dataframe[column_name].hist()\n",
    "    plt.title(\"{} Distribution of {} Heroes\".format(column_name, gender))\n",
    "    plt.xlabel(column_name)\n",
    "    plt.ylabel(\"Probability Density\")\n",
    "    plt.show()"
   ]
  },
  {
   "cell_type": "code",
   "execution_count": 23,
   "metadata": {},
   "outputs": [
    {
     "data": {
      "image/png": "iVBORw0KGgoAAAANSUhEUgAAAYkAAAEWCAYAAACT7WsrAAAABHNCSVQICAgIfAhkiAAAAAlwSFlzAAALEgAACxIB0t1+/AAAADl0RVh0U29mdHdhcmUAbWF0cGxvdGxpYiB2ZXJzaW9uIDIuMi4yLCBodHRwOi8vbWF0cGxvdGxpYi5vcmcvhp/UCwAAHr9JREFUeJzt3X2YHFWZ9/HvDyIECEkIYCQhMrJEBYkiRAHxWifiCwQh7Ar7wKIQRaPX6gMs8YHorsvi+hJWEMiirhHUCCwDC4gQcBUDg2aVtwgSXtQMECEkgpEkEEQgcD9/1OnQNF09NcNUd0/n97muvrrq1Omq+0z19N3nVHWVIgIzM7N6Nmt1AGZm1r6cJMzMLJeThJmZ5XKSMDOzXE4SZmaWy0nCzMxyOUlswiR9TtL5Bev+q6SLmhDTekm7DtG6NrZPUpekkDRiiNb92hTr5kOxvgFsd7ykn0l6UtJZJW5nuaT3lLV+Gz6cJIaxev/IkmZKWlzk9RHx5Yj4WFmx1CzvlvRC+mBdL2mFpMskva0mplER8UA/2+qWtKK/mMpsX0Q8lGJ9fijWPwCzgNXA6IiYXbtQ0vdSMjyspvycVD6zzODy9o2kXklDsi+suZwkrJlWRsQoYFtgP+A3wM8lHTjUGxqqHkMb2gW4Nxr/CvZ3wHGVmfS3OBK4v+TYhlwH78dhw0miw0maIOkKSX+U9KCkE6qWvWQISdKxkn4v6U+SPl+nd7CFpO+noY57JE1Nr7sQeC1wTeolnNIopsisiIh/Ac4HzqiKISTtlqanS7o3be8RSZ+RtA3wI2BCVa9kQmrL5ZIukvQEMDNniOyjklZKWiVpdtV2vyfpi1XzG78R12tf7fBViuFqSY9L6pP08Zq/82X1/nY5++wdkm6TtC49v6MSI9mH/ykpjrye2zXAAZK2S/MHAXcBf6jaxl9JuiHt69WSLpY0NieezSTNkXR/qn+ZpHF58Rch6QOS7pS0VtIvJL25atlySadKugt4StIISbun3sja9Pc7rKr+lpLOlPSQpEcl/aekrdKyHSQtTK97XNLPJflzbwD8x+pg6Z/hGuDXwETgQOAkSe+vU3cP4BvAMcBOwJj0mmqHAT3AWOBq4DyAiPgw8BBwaBqC+fcBhHklsHf68K91AfCJiNgW2BO4ISKeAg4m9UrSY2WqPwO4PMV3cc72pgGTgfcBcxp80G5UsH2XACuACcARwJdrekh1/3a10ofvtcA8YHvga8C1kraPiJmpXf+e4vhpTsh/Sds4Ks0fC3y/dlPAV1K8uwOTgH/NWd8JwOHAu1L9NcDXc+r2S9LewHeAT5C18VvA1ZK2rKp2NHAI2d9LZO/jnwCvBv4vcLGkN6S6ZwCvB/YCdiN73/5LWjabbL/sCIwHPgf4WkQD4CQx/F2VviWtlbSW7IO+4m3AjhHxhYh4No31f5sXPzyqHQFcExGLI+JZsn+y2n+mxRFxXRqHvxB4yxDEv5LsQ6Det9jngD0kjY6INRHxq37W9cuIuCoiXoiIp3PqnB4RT0XEUuC7ZB9Gr4ikScA7gVMj4i8RcSdZD+nDVdWK/u0OAZZFxIURsSEiLiEbljt0gGF9HzhW0hiyD/erqhdGRF9EXB8Rz0TEH8mS0bty1vUJ4J9S7+8ZsmRyRIOhoAnV78n0vnxn1fKPA9+KiFsi4vmIWAA8QzYEWTEvIh5O+3E/YBQwN72PbwAWAkdLUlrfP0bE4xHxJPBlXnyPP0f2pWeXiHguIn7ez1Cd1XCSGP4Oj4ixlQfwD1XLdqHmH5bsm9T4OuuZADxcmYmIPwN/qqnzh6rpPwMjG3xQFDWRLBmtrbPsg8B04PeSbpK0fz/rerif5bV1fk/W7ldqAlD5gKped3VPrOjfbkJ6bbXadfUrIhaTfXv+Z2BhbdKU9GpJPWkY7wngImCHnNXtAvyg6j10H/A89d9HkPXyxta8L6tPptgFmF3zvpzES/dF9X6aADwcES9UlVX+JjsCWwNLqtb1P6kc4KtAH/ATSQ9ImpMTs+VwkuhsDwMP1vzDbhsR0+vUXQXsXJlJY7rbD2Bbg/129jfAr9Iw0ktXGHFbRMwgG2K4Crisn20ViWFS1fRryXoyAE+RfdhUvGYA614JjJO0bc26HykQT7117VJTNth1XUQ23FI71ATZUFMAb46I0cCHyHp09TwMHFzzPhoZEYOJqbK+L9Wsb+vUa6qo/nuvBCbVHEuo/E1WA08Db6pa15h0ggQR8WREzI6IXcl6YyerhBMlOpmTRGe7FXgiHQTcStLmkvZUzWmnyeXAoemg6RbA6eR/aNTzKFDo9w3KTJR0GvAxst5NbZ0tJB0jaUxEPAc8QfbttbKt7dNQykB9XtLWkt4EfAS4NJXfCUyXNE7Sa4CTal6X276IeBj4BfAVSSPTQdjjyT8u0sh1wOsl/X06YPt/gD3IhlcGah7wXuBndZZtC6wH1kqaCPy/Buv5T+BLknYBkLSjpBmDiKfi28AnJe2b3gvbSDqkJslWu4UsiZ8i6VWSusk+8HtS7+LbwNmSXp3im1g57pYOkO+WhqUq76Fmn7Y8rDlJdLA0/n0o2QG9B8m+dZ1PdlC6tu49ZAcEe8h6FU8Cj5GNFRfxFeCfU5f/Mzl1JkhaT/bhdBswBeiOiJ/k1P8wsDwNh3yS7NsuEfEbsgPFD6TtDWTI6Cay4YdFwJlV276Q7AD/crIDpJfWvK6/9h0NdJF96/0BcFpEXD+AuACIiD8BHyDrAfwJOAX4QESsHsS6Ho+IRTlj8KcDewPryA6UX9lgVeeSHQj/iaQngZuBfQcaT1Vct5MdRziP7CB4HzCzQf1nyQ78H0z2Hv4GcGx6HwCcmtZxc3qv/BSoHNSenObXA78EvhERvYONfVMkH8OxeiSNIjtOMDkiHmx1PGbWGu5J2EaSDk1DMdsAZwJLyb5Zm9kmyknCqs0gGy5ZSdZNP8qnC5pt2jzcZGZmudyTMDOzXMP64lk77LBDdHV1tTqMQp566im22abelSc6h9s4/HV6+8BtBFiyZMnqiNgxt0KVYZ0kurq6uP3221sdRiG9vb10d3e3OoxSuY3DX6e3D9xGAEm1v+rP5eEmMzPL5SRhZma5nCTMzCyXk4SZmeVykjAzs1xOEmZmlstJwszMcjlJmJlZLicJMzPLNax/cW0D0zXn2lLXP3vKBmbmbGP53ENK3baZlcM9CTMzy+UkYWZmuZwkzMwsl5OEmZnlcpIwM7NcThJmZpbLScLMzHI5SZiZWS4nCTMzy+UkYWZmuZwkzMwsl5OEmZnlcpIwM7NcThJmZpbLScLMzHI5SZiZWS4nCTMzy+UkYWZmuZwkzMwsl5OEmZnlcpIwM7NcpScJSZtLukPSwjT/Okm3SFom6VJJW6TyLdN8X1reVXZsZmbWWDN6EicC91XNnwGcHRGTgTXA8an8eGBNROwGnJ3qmZlZC5WaJCTtDBwCnJ/mBbwbuDxVWQAcnqZnpHnS8gNTfTMzaxFFRHkrly4HvgJsC3wGmAncnHoLSJoE/Cgi9pR0N3BQRKxIy+4H9o2I1TXrnAXMAhg/fvw+PT09pcU/lNavX8+oUaNaGsPSR9aVuv7xW8GjT9dfNmXimFK33SztsB/L1OntA7cRYNq0aUsiYmqRdY0YsqhqSPoA8FhELJHUXSmuUzUKLHuxIGI+MB9g6tSp0d3dXVulLfX29tLqWGfOubbU9c+esoGzltZ/Sy0/prvUbTdLO+zHMnV6+8BtHKjSkgRwAHCYpOnASGA0cA4wVtKIiNgA7AysTPVXAJOAFZJGAGOAx0uMz8zM+lHaMYmI+GxE7BwRXcBRwA0RcQxwI3BEqnYc8MM0fXWaJy2/IcocCzMzs3614ncSpwInS+oDtgcuSOUXANun8pOBOS2IzczMqpQ53LRRRPQCvWn6AeDtder8BTiyGfGYmVkx/sW1mZnlcpIwM7NcThJmZpbLScLMzHI5SZiZWS4nCTMzy+UkYWZmuZwkzMwsl5OEmZnlcpIwM7NcThJmZpbLScLMzHI5SZiZWS4nCTMzy+UkYWZmuZwkzMwsl5OEmZnlcpIwM7NcThJmZpbLScLMzHI5SZiZWa5+k4SkzZsRiJmZtZ8iPYk+SV+VtEfp0ZiZWVspkiTeDPwOOF/SzZJmSRpdclxmZtYG+k0SEfFkRHw7It4BnAKcBqyStEDSbqVHaGZmLVPomISkwyT9ADgXOAvYFbgGuK7k+MzMrIVGFKizDLgR+GpE/KKq/HJJf11OWGZm1g6KJIljI2JxdYGkAyLifyPihJLiMjOzNlDkwPW8OmX/MdSBmJlZ+8ntSUjaH3gHsKOkk6sWjQb82wkzs01Ao+GmLYBRqc62VeVPAEeUGZSZmbWH3CQRETcBN0n6XkT8vokxmZlZm2g03HRORJwEnCcpapdHxGGlRmZmZi3XaLjpwvR8ZjMCMTOz9tNouGlJer6pUiZpO2BSRNzVhNjMzKzFivziulfSaEnjgF8D35X0tfJDMzOzVivyO4kxEfEE8LfAdyNiH+A9/b1I0khJt0r6taR7JJ2eyl8n6RZJyyRdKmmLVL5lmu9Ly7sG3ywzMxsKRZLECEk7AX8HLBzAup8B3h0RbwH2Ag6StB9wBnB2REwG1gDHp/rHA2siYjfg7FTPzMxaqEiS+ALwY6AvIm6TtCvZ9Zwaisz6NPuq9Ajg3cDlqXwBcHianpHmScsPlKRCrTAzs1Io4mVntw7dyrO72i0BdgO+DnwVuDn1FpA0CfhRROwp6W7goIhYkZbdD+wbEatr1jkLmAUwfvz4fXp6ekqLfyitX7+eUaNGtTSGpY+sK3X947eCR5+uv2zKxDGlbrtZ2mE/lqnT2wduI8C0adOWRMTUIuvq9wJ/knYEPg50VdePiI/299qIeB7YS9JY4AfA7vWqVTbVYFn1OucD8wGmTp0a3d3d/YXRFnp7e2l1rDPnXFvq+mdP2cBZS+u/pZYf013qtpulHfZjmTq9feA2DlSRq8D+EPg58FPg+cFsJCLWSuoF9gPGShoRERuAnYGVqdoKYBKwQtIIYAzw+GC2Z2ZmQ6NIktg6Ik4d6IpTD+S5lCC2Ijsj6gyye1McAfQAx5ElIYCr0/wv0/IbosyxMDMz61eRJLFQ0vSIGOhd6HYCFqTjEpsBl0XEQkn3Aj2SvgjcAVyQ6l8AXCipj6wHcdQAt2dmZkOsSJI4EficpGeBZ8mOHUREjG70ovSr7LfWKX8AeHud8r8ARxYJ2szMmqPfJBER2/ZXx8zMOlORy3JI0ockfT7NT5L0sp6AmZl1niI/pvsGsD/w92l+PdlvHszMrMMVOSaxb0TsLekOgIhYU7nekpmZdbYiPYnn0hlKARtPbX2h1KjMzKwtFEkS88h+Lf1qSV8CFgNfLjUqMzNrC0XObrpY0hLgQLLTXw+PiPtKj8zMzFquyLWbpgBvBB4D7nOCMDPbdOQmCUljyC6ZMQm4i6wXMUXSQ8CMdCMiMzPrYI2OSfwbcDswOSL+JiIOB14P3AZ8qRnBmZlZazUabnoP8OaI2HgmU0Q8L+lzwNLSIzMzs5Zr1JN4Nl3O+yVS2TPlhWRmZu2iUU9ipKS38vKbAQnYsryQzMysXTRKEquAr+Us+0MJsZiZWZvJTRIRMa2ZgZiZWfsp8otrMzPbRDlJmJlZLicJMzPLVeSmQ1dIOkSSE4qZ2SamyAf/N8luOLRM0lxJbyw5JjMzaxP9JomI+GlEHAPsDSwHrpf0C0kfkfSqsgM0M7PWKTSEJGl7YCbwMeAO4FyypHF9aZGZmVnLFblU+JVklwq/EDg0IlalRZdKur3M4MzMrLWK3OP6/Ii4rrpA0pYR8UxETC0pLjMzawNFhpu+WKfsl0MdiJmZtZ9GNx16DTAR2KrmQn+jga2bEJuZmbVYo+Gm95MdrN6Zl17o70ngcyXGZGZmbaLRBf4WAAskfTAirmhiTGZm1iYaDTd9KCIuAroknVy7PCLyLiNuZmYdotFw0zbpeVQzAjEzs/bTaLjpW+n59OaFY2Zm7aTRcNO8Ri+MiBOGPhwzM2snjYabljQtCjMza0v9nd1kZmabsEbDTedExEmSrgGidnlEHFZqZGZm1nKNhpsuTM9nNiMQMzNrP42Gm5ak55skbUF2JdgAfhsRzzYpPjMza6Eity89BLgfmAecB/RJOrjA6yZJulHSfZLukXRiKh8n6XpJy9LzdqlckuZJ6pN0l6S9X1nTzMzslSpyFdizgGkR0R0R7wKmAWcXeN0GYHZE7A7sB3xK0h7AHGBRREwGFqV5gIOByekxi+y2qWZm1kJFksRjEdFXNf8A8Fh/L4qIVRHxqzT9JHAf2VVlZwCVM6cWAIen6RnA9yNzMzBW0k7FmmFmZmVQxMtOXMoWSH+bJt8L7AJcRnZM4kiy4xKzC29E6gJ+BuwJPBQRY6uWrYmI7SQtBOZGxOJUvgg4NSJur1nXLLKeBuPHj9+np6enaBgttX79ekaNau0VTpY+sq7U9Y/fCh59uv6yKRPHlLrtZmmH/VimTm8fuI0A06ZNW1L0pnGNzm46tGr6UeBdafqPwHZFVg4gaRRwBXBSRDwhKbdqnbJ6p97OB+YDTJ06Nbq7u4uG0lK9vb20OtaZc64tdf2zp2zgrKX131LLj+kuddvN0g77sUyd3j5wGweq0dlNH3mlK5f0KrIEcXFEXJmKH5W0U0SsSsNJlaGrFcCkqpfvDKx8pTGYmdng9XuPa0kjgeOBNwEjK+UR8dF+XifgAuC+msuKXw0cB8xNzz+sKv+0pB5gX2BdRKwq3hQzMxtqRQ5cXwi8huxOdTeRfcN/ssDrDgA+DLxb0p3pMZ0sObxX0jKy4x1zU/3ryA6K9wHfBv5hIA0xM7Oh129PAtgtIo6UNCMiFkj6L+DH/b0oHYDOOwBxYJ36AXyqQDxmZtYkRXoSz6XntZL2BMYAXaVFZGZmbaNIT2J++lX058mOG4xK02Zm1uH6TRIRcX6avAnYtdxwzMysnRS5dtP2kv5D0q8kLZF0jqTtmxGcmZm1VpFjEj1kv2X4IHAEsBq4tMygzMysPRQ5JjEuIv6tav6Lkg7PrW1mZh2jSE/iRklHSdosPf4OKPf6DmZm1hYa3b70SbJrJwk4GbgoLdoMWA+cVnp0Jeoq+TpGtWZP2bDx2knL5x7S1G2bmQ1Wo2s3bdvMQMzMrP0UOSaBpMOAv06zvRGxsLyQzMysXRQ5BXYucCJwb3qcmMrMzKzDFelJTAf2iogXACQtAO7gxduOmplZhypydhPA2KrpzrjFmJmZ9atIT+IrwB2SbiQ70+mvgc+WGpWZmbWFhkki3ThoMbAf8DayJHFqRPyhCbGZmVmLNUwSERGSroqIfciuAGtmZpuQIsckbpb0ttIjMTOztlPkmMQ04JOSlgNPkQ05RUS8uczAzMys9YokiYNLj8LMzNpSo2s3jQQ+CewGLAUuiIgNzQrMzMxar9ExiQXAVLIEcTBwVlMiMjOzttFouGmPiJgCIOkC4NbmhGRmZu2iUU/iucqEh5nMzDZNjXoSb5H0RJoWsFWar5zdNLr06MzMrKUa3U9i82YGYmZm7afoBf7MzGwT5CRhZma5nCTMzCyXk4SZmeVykjAzs1xOEmZmlstJwszMcjlJmJlZLicJMzPL5SRhZma5nCTMzCxXaUlC0nckPSbp7qqycZKul7QsPW+XyiVpnqQ+SXdJ2rusuMzMrLgyexLfAw6qKZsDLIqIycCiNA/ZTY0mp8cs4JslxmVmZgWVliQi4mfA4zXFM8jueEd6Pryq/PuRuRkYK2mnsmIzM7NiFBHlrVzqAhZGxJ5pfm1EjK1aviYitpO0EJgbEYtT+SLg1Ii4vc46Z5H1Nhg/fvw+PT09g4pt6SPrBvW6wRq/FTz6dDY9ZeKYpm67ouw2V7exVqvaPNTWr1/PqFGjWh1GaTq9feA2AkybNm1JREwtsq5GNx1qJtUpq5u9ImI+MB9g6tSp0d3dPagNzpxz7aBeN1izp2zgrKXZn3v5Md1N3XZF2W2ubmOtVrV5qPX29jLY99xw0OntA7dxoJp9dtOjlWGk9PxYKl8BTKqqtzOwssmxmZlZjWYniauB49L0ccAPq8qPTWc57Qesi4hVTY7NzMxqlDbcJOkSoBvYQdIK4DRgLnCZpOOBh4AjU/XrgOlAH/Bn4CNlxWVmZsWVliQi4uicRQfWqRvAp8qKxczMBse/uDYzs1xOEmZmlstJwszMcjlJmJlZLicJMzPL5SRhZma5nCTMzCyXk4SZmeVykjAzs1xOEmZmlstJwszMcjlJmJlZLicJMzPL5SRhZma5nCTMzCyXk4SZmeVykjAzs1xOEmZmlstJwszMcjlJmJlZLicJMzPL5SRhZma5nCTMzCyXk4SZmeVykjAzs1xOEmZmlstJwszMcjlJmJlZLicJMzPL5SRhZma5RrQ6ANs0dM25tiXbXT73kJZs16xTuCdhZma5nCTMzCyXk4SZmeVykjAzs1xOEmZmlstnN7VAq870MTMbqLbqSUg6SNJvJfVJmtPqeMzMNnVtkyQkbQ58HTgY2AM4WtIerY3KzGzT1k7DTW8H+iLiAQBJPcAM4N6WRmXD2lAP7c2esoGZBda5Kf6Ir5XDqK36e28KbVZENGVD/ZF0BHBQRHwszX8Y2DciPl1TbxYwK82+AfhtUwMdvB2A1a0OomRu4/DX6e0DtxFgl4jYsciK2qknoTplL8tgETEfmF9+OENL0u0RMbXVcZTJbRz+Or194DYOVNsckwBWAJOq5ncGVrYoFjMzo72SxG3AZEmvk7QFcBRwdYtjMjPbpLXNcFNEbJD0aeDHwObAdyLinhaHNZSG3RDZILiNw1+ntw/cxgFpmwPXZmbWftppuMnMzNqMk4SZmeVykmiCTrjciKRJkm6UdJ+keySdmMrHSbpe0rL0vF0ql6R5qc13Sdq7tS0oTtLmku6QtDDNv07SLamNl6YTK5C0ZZrvS8u7Whl3UZLGSrpc0m/S/ty/k/ajpH9M79G7JV0iaeRw34eSviPpMUl3V5UNeJ9JOi7VXybpuCLbdpIoWQddbmQDMDsidgf2Az6V2jEHWBQRk4FFaR6y9k5Oj1nAN5sf8qCdCNxXNX8GcHZq4xrg+FR+PLAmInYDzk71hoNzgf+JiDcCbyFra0fsR0kTgROAqRGxJ9lJMEcx/Pfh94CDasoGtM8kjQNOA/Ylu8LFaZXE0lBE+FHiA9gf+HHV/GeBz7Y6riFo1w+B95L94n2nVLYT8Ns0/S3g6Kr6G+u184Ps9zmLgHcDC8l+5LkaGFG7P8nOxNs/TY9I9dTqNvTTvtHAg7Vxdsp+BCYCDwPj0j5ZCLy/E/Yh0AXcPdh9BhwNfKuq/CX18h7uSZSv8qatWJHKhq3UJX8rcAswPiJWAaTnV6dqw7Xd5wCnAC+k+e2BtRGxIc1Xt2NjG9Pydal+O9sV+CPw3TSkdr6kbeiQ/RgRjwBnAg8Bq8j2yRI6ax9WDHSfDWpfOkmUr9DlRoYLSaOAK4CTIuKJRlXrlLV1uyV9AHgsIpZUF9epGgWWtasRwN7ANyPircBTvDhMUc+wamMaPpkBvA6YAGxDNvxSazjvw/7ktWlQbXWSKF/HXG5E0qvIEsTFEXFlKn5U0k5p+U7AY6l8OLb7AOAwScuBHrIhp3OAsZIqPzytbsfGNqblY4DHmxnwIKwAVkTELWn+crKk0Sn78T3AgxHxx4h4DrgSeAedtQ8rBrrPBrUvnSTK1xGXG5Ek4ALgvoj4WtWiq4HKWRLHkR2rqJQfm8602A9YV+kat6uI+GxE7BwRXWT76YaIOAa4ETgiVattY6XtR6T6bf0tNCL+ADws6Q2p6ECyy/F3yn58CNhP0tbpPVtpX8fswyoD3Wc/Bt4nabvU43pfKmus1QdjNoUHMB34HXA/8E+tjmeQbXgnWdf0LuDO9JhONn67CFiWnsel+iI7q+t+YCnZ2SYtb8cA2tsNLEzTuwK3An3AfwNbpvKRab4vLd+11XEXbNtewO1pX14FbNdJ+xE4HfgNcDdwIbDlcN+HwCVkx1ieI+sRHD+YfQZ8NLW1D/hIkW37shxmZpbLw01mZpbLScLMzHI5SZiZWS4nCTMzy+UkYWZmuZwkzHJIWl8zP1PSef285jD1c6VfSd2VK8zWWXaSpK0HHq1ZOZwkzIZQRFwdEXNfwSpOApwkrG04SZgNgqQdJV0h6bb0OCCVb+xtSPorSTen5V+o6ZmMqrqnw8Xp17EnkF1v6EZJN7agWWYvM6L/KmabrK0k3Vk1P44XL6lyLtn9CRZLei3Z5Q12r3n9ucC5EXGJpE/WLHsr8Caya+f8L3BARMyTdDIwLSJWD3VjzAbDScIs39MRsVdlRtJMYGqafQ+wR3Z5IABGS9q25vX7A4en6f8iu4R1xa0RsSKt906yewUsHsrgzYaCk4TZ4GxGdrOap6sLq5JGf56pmn4e/y9am/IxCbPB+Qnw6cqMpL3q1LkZ+GCaPqrgep8EanskZi3jJGE2OCcAU9ON5u8Fao85QHam0smSbiW7feS6AuudD/zIB66tXfgqsGYlSb93eDoiQtJRZPcTntHquMwGwuOgZuXZBzgv3fxmLdm1/M2GFfckzMwsl49JmJlZLicJMzPL5SRhZma5nCTMzCyXk4SZmeX6/3fJcOzxLwpnAAAAAElFTkSuQmCC\n",
      "text/plain": [
       "<Figure size 432x288 with 1 Axes>"
      ]
     },
     "metadata": {},
     "output_type": "display_data"
    },
    {
     "name": "stdout",
     "output_type": "stream",
     "text": [
      "Mean Height for male heroes: 117.08405172413794\n",
      "Median Height for male heroes: 183.0\n"
     ]
    }
   ],
   "source": [
    "# Male Height\n",
    "show_distplot(heroes_and_powers_df, 'Male', 'Height')\n",
    "print(\"Mean Height for male heroes: {}\".format(male_heroes_df.Height.mean()))\n",
    "print(\"Median Height for male heroes: {}\".format(male_heroes_df.Height.median()))"
   ]
  },
  {
   "cell_type": "code",
   "execution_count": 24,
   "metadata": {},
   "outputs": [
    {
     "data": {
      "image/png": "iVBORw0KGgoAAAANSUhEUgAAAYgAAAEWCAYAAAB8LwAVAAAABHNCSVQICAgIfAhkiAAAAAlwSFlzAAALEgAACxIB0t1+/AAAADl0RVh0U29mdHdhcmUAbWF0cGxvdGxpYiB2ZXJzaW9uIDIuMi4yLCBodHRwOi8vbWF0cGxvdGxpYi5vcmcvhp/UCwAAIABJREFUeJzt3XuYHFW57/HvD8IlJEDCbYQQCUiQW+TiiAG8TICtXBRQAUEUEDSwRQXJ3gqc4zlykC0+m4uCigQRIiIBuUgIKBuRCfdLAkiAiAkQSUhIjASSQQUT3vNHrQ5NU9PdM5m+TM/v8zz9dNeq6qp3Vc3022ut6ipFBGZmZqXWaHQAZmbWnJwgzMwslxOEmZnlcoIwM7NcThBmZpbLCcLMzHI5QRiSfirp21Uue6Wk79Y4nndL6pK0Zh+tb1X9JHVImt8X603r+7CkZ/pqfT3Y7nslPSZpuaSv13A7IWnbWq3fmpsTRD8k6QxJt5WUze6m7MhK64uIkyLi7D6KrewHiqTjJK1MCaBL0vOSrpC0XVE8L0TE0IhYWWFbx0m6t1JMtaxfRNwTEe/ti3X30DeBzohYPyIuKp0pqTPFuktJ+W9SeUctg+vu2EiaK2m/Wm7b+o4TRP90N7B34Ru2pHcBawG7l5Rtm5ZtNg9ExFBgQ2A/4B/ADEk79/WG+qoV0oS2Ap6qsMyfgWMKE5I2BsYCf61hXDUhaVCjYxiInCD6p0fIEsKuafojwF3AMyVlz0bEAgBJ20u6Q9LLkp6RdERhZaXdRpK+KWmhpAWSvpTTKhgu6dbUvfGQpPek9xWS0R9T6+Cz5SoRESsj4tmI+AowDfhOWs+otM1Bafo4Sc+l7T0v6WhJOwA/BfZM23qlqC6XSLpN0mvAuLxuMUlnSlqSvtEeXVTeKelLRdOrvgnn1a+0y0rSDmkdr0h6StLBJfv5x3n7Lo+kg9M6Xknr3CGV/wEYB/woxbFdN6u4GvhsUZI8CrgJeKNoG3tIeiBtY6GkH0lau5t41pF0nqQXJC1S1nU3uLv4qyHpeEmzJC2VdLukrYrmhaSTJc0GZqeyvSQ9IunV9LxX0fIbSro81eNFSd8t+sK0raRp6X1LJF27OnEPFE4Q/VBEvAE8RJYESM/3APeWlN0NIGkIcAfwK2Azsg+Kn0jaqXTdkvYHTiP7Zr8t8NGcEI4CzgKGA3OAc1JchW3vkrqIevJPeCPw4Zx4hgAXAQdExPrAXsDjETELOInUGomIYUVv+1yKaX2yfVLqXcAmwAjgWGCipIrdRJXqJ2kt4Bbgf8j289eAq0vWnbvvcuq9HXANcCqwKXAbcIuktSNiH7Lj/dUUx5+7CXkB8DTwsTR9DPCLkmVWAt8g2x97AvsCX+lmfd8HtiP7ErIt2f77P90sW5GkQ4EzgU+T1fEesjoXOxT4ILCjpI2AW8n+HjYGLgBuTS0jgEnAihTbbmT1LiT7s8mOy3BgS+Di3sY9kDhB9F/TeCsZfJjsn+uekrJp6fUngLkRcUVErIiIR4EbgMNy1nsEcEVEPBURfyf7MCt1Y0Q8HBEryL6l7pqzTE8tADbqZt6bwM6SBkfEwoio1LVyc0TcFxFvRsQ/u1nm2xHxekRMI/vQOaKb5XpiLDAUODci3oiIPwBTyZJCQbX77rPArRFxR0T8CzgPGEyWIHviF8AxKUkNi4gHimdGxIyIeDD9XcwFLiXnS4EkAV8GvhERL0fEcuC/gHJjXGNTy2TVA3h30fwTge9FxKy0P/4L2LW4FZHmvxwR/wAOAmZHxFUp3muAPwGflNQGHACcGhGvRcRi4MKi+P5F1i23RUT8MyIqjl2ZE0R/djfwIUnDgU0jYjZwP7BXKtuZt8YftgI+WPKPejTZN+lSWwDziqbn5SzzUtHrv5N9KK6uEcDLpYUR8RrZh+VJwMLUPbN9hXXlxVxsaVpvwV/I6r26tgDmRcSbJeseUTRd7b7bIr0XgLTOeSXrqsaNwD5krZmrSmdK2k7SVEkvSVpG9iG9Sc56NgXWIxsrKvwN/S6Vd+fBiBhW/ABeKJq/FfDDovW9DKikjsXH8m37JCns363Iul0XFq3vUrKWHGSD+gIeTt12x5eJ2xIniP7rAbJB3vHAfQARsYzsm/h4YEFEPJ+WnQdMK/lnHRoR/56z3oVkTfCCkTWrwdt9iqwF9A4RcXtE/BuwOdk3xssKs7pZV6VLFA9PXVcF7ybbbwCvkX0QFuQl0e4sAEZKKv6/ejfwYg/WUbyu4v54kR2LHq0rtQJ/C/w7OQkCuIRsn46OiA3IunyUs9wSspMJdir6G9ownWzQW/OAE0v+LgdHxP3FVSh6/bZ9khT27zzgdWCTonVtEBE7AUTESxHx5YjYgqzl8hP59N2KnCD6qdTknk42XlD8wXpvKis+e2kqsJ2kL0haKz0+UBj0LHEd8MU02LoePe9jXgRsU82CktaUtLWki4EOcrqzJLWlwdohZB8AXWT95oVtbdndoGoFZ0laW9KHybrgfp3KHwc+LWm99AFyQsn7ytXvIbIE8820jzuATwKTexHfdcBBkvZNYxsTyOp/f/m35ToT+GjqQiq1PrAM6Eots7wvDYUWzGXAhZI2A5A0QtLHexFPwU+BMwpjYWmQ+fAyy99G9nf8OUmDlJ0EsSMwNSIWko0xnC9pA0lrSHqPpI+mdR8uqfDFZylZ4il7GrU5QfR308ia0MX9qfekslUJIvUXf4ysP3YBWTfH94F1SlcYEb8lGwS8i2wQtdBn/XqVMX0HmJSa+d316+8pqYvsg6kT2AD4QETMzFl2DbIPxwVkXRAf5a1B1D+Qner5kqQlVcYHWf2XpnVeDZwUEX9K8y4kO8tnEdmg59XV1i+dPHAwWV/4EuAnwDFF665aRDwDfJ5sMHUJWaL5ZNpGT9e1oEyf+3+QDeovJ0sA5U4s+BbZ38SDqTvq90CvfwMSETeR/R1OTut7kmzfdbf838iS+QTgb2TdRp+IiMKxPwZYm2xgfilwPVmrE+ADwEPp724KcEpRC9u6Id8wyMpJrYwngXXSQKKZDRBuQdg7SPpU6n4ZTvYN7xYnB7OBxwnC8pxI9mvbZ8n6aXP7pc2stbmLyczMcrkFYWZmufr1BbA22WSTGDVqVKPD6LHXXnuNIUOGVF6whQy0Og+0+oLr3J/MmDFjSUSU+5Ej0M8TxKhRo5g+fXqjw+ixzs5OOjo6Gh1GXQ20Og+0+oLr3J9IKv1Fei53MZmZWS4nCDMzy+UEYWZmuZwgzMwslxOEmZnlcoIwM7NcThBmZpbLCcLMzHI5QZiZWa5+/Uvq/mrmi69y3Om31n27c889qO7bNLP+yy0IMzPL5QRhZma5nCDMzCyXE4SZmeVygjAzs1xOEGZmlssJwszMcjlBmJlZLicIMzPL5QRhZma5nCDMzCyXE4SZmeVygjAzs1xOEGZmlqtmCULSupIelvRHSU9JOiuVby3pIUmzJV0rae1Uvk6anpPmj6pVbGZmVlktWxCvA/tExC7ArsD+ksYC3wcujIjRwFLghLT8CcDSiNgWuDAtZ2ZmDVKzBBGZrjS5VnoEsA9wfSqfBByaXh+Spknz95WkWsVnZmbl1XQMQtKakh4HFgN3AM8Cr0TEirTIfGBEej0CmAeQ5r8KbFzL+MzMrHs1veVoRKwEdpU0DLgJ2CFvsfSc11qI0gJJ44HxAG1tbXR2dvZNsHXUNhgmjFlRecE+1sh91dXV1S+PVW8NtPqC69yK6nJP6oh4RVInMBYYJmlQaiVsCSxIi80HRgLzJQ0CNgRezlnXRGAiQHt7e3R0dNS+An3s4qtv5vyZ9b8d+NyjO+q+zYLOzk7647HqrYFWX3CdW1Etz2LaNLUckDQY2A+YBdwFHJYWOxa4Ob2ekqZJ8/8QEe9oQZiZWX3U8mvs5sAkSWuSJaLrImKqpKeByZK+CzwGXJ6Wvxy4StIcspbDkTWMzczMKqhZgoiIJ4DdcsqfA/bIKf8ncHit4jEzs57xL6nNzCyXE4SZmeVygjAzs1xOEGZmlssJwszMcjlBmJlZLicIMzPL5QRhZma5nCDMzCyXE4SZmeVygjAzs1xOEGZmlssJwszMcjlBmJlZLicIMzPL5QRhZma5nCDMzCyXE4SZmeVygjAzs1xOEGZmlssJwszMcjlBmJlZLicIMzPLVbMEIWmkpLskzZL0lKRTUvl3JL0o6fH0OLDoPWdImiPpGUkfr1VsZmZW2aAarnsFMCEiHpW0PjBD0h1p3oURcV7xwpJ2BI4EdgK2AH4vabuIWFnDGM3MrBs1a0FExMKIeDS9Xg7MAkaUecshwOSIeD0ingfmAHvUKj4zMytPEVH7jUijgLuBnYHTgOOAZcB0slbGUkk/Ah6MiF+m91wO/DYiri9Z13hgPEBbW9v7J0+eXPP4+9ril19l0T/qv90xIzas/0aTrq4uhg4d2rDt19tAqy+4zv3JuHHjZkREe6XlatnFBICkocANwKkRsUzSJcDZQKTn84HjAeW8/R3ZKyImAhMB2tvbo6Ojo0aR187FV9/M+TNrvuvfYe7RHXXfZkFnZyf98Vj11kCrL7jOrahiF5OkNXu7cklrkSWHqyPiRoCIWBQRKyPiTeAy3upGmg+MLHr7lsCC3m7bzMxWTzVjEHMk/XcaRK6aJAGXA7Mi4oKi8s2LFvsU8GR6PQU4UtI6krYGRgMP92SbZmbWd6rp53gf2dlFP5O0BvBzssHkZRXetzfwBWCmpMdT2ZnAUZJ2Jes+mgucCBART0m6Dnia7Ayok30Gk5lZ41RMEOkMpMuAyyR9BLgGuFDS9cDZETGnm/fdS/64wm1ltnUOcE41gZuZWW1VNQYh6WBJNwE/JBtU3ga4hTIf9mZm1r9V08U0G7gL+O+IuL+o/PrUojAzsxZUTYI4JnUXrSJp74i4LyK+XqO4zMyswao5i+minLKL+zoQMzNrLt22ICTtCewFbCrptKJZGwC9/m2EmZn1D+W6mNYGhqZl1i8qXwYcVsugzMys8bpNEBExDZgm6cqI+EsdYzIzsyZQrovpBxFxKvAjSXnXRDq4ppGZmVlDletiuio9n1dmGTMza1HluphmpOdphTJJw4GREfFEHWIzM7MGquaX1J2SNpC0EfBH4ApJF1R6n5mZ9W/V/A5iw3Rhvk8DV0TE+4H9ahuWmZk1WjUJYlC6RPcRwNQax2NmZk2imgTx/4DbgTkR8Yikbciuz2RmZi2smst9/xr4ddH0c8BnahmUmZk1XsUEIWlT4MvAqOLlI+L42oVlZmaNVs3VXG8G7gF+D/gOb2ZmA0Q1CWK9iPhWzSMxM7OmUs0g9VRJB9Y8EjMzayrVJIhTyJLEPyUtk7Rc0rJaB2ZmZo1VzVlM61daxszMWk81l9qQpM9L+naaHilpj9qHZmZmjVRNF9NPgD2Bz6XpLuDHld6UEsldkmZJekrSKal8I0l3SJqdnoenckm6SNIcSU9I2r2XdTIzsz5QTYL4YEScDPwTICKWkt1trpIVwISI2AEYC5wsaUfgdODOiBgN3JmmAQ4ARqfHeOCSnlTEzMz6VjUJ4l+S1gQCVv1w7s1Kb4qIhRHxaHq9HJgFjAAOASalxSYBh6bXhwC/iMyDwLB0DSgzM2uAan4HcRFwE7CZpHPI7kf9v3uyEUmjgN2Ah4C2iFgIWRKRtFlabAQwr+ht81PZwpJ1jSdrYdDW1kZnZ2dPQmkKbYNhwpgVdd9uI/dVV1dXvzxWvTXQ6guucyuq5iymqyXNAPYFBBwaEbOq3YCkocANwKkRsUxSt4vmbT4nnonARID29vbo6OioNpSmcfHVN3P+zGpyc9+ae3RH3bdZ0NnZSX88Vr010OoLrnMrquYspjHAGGAx0NnD5LAWWXK4OiJuTMWLCl1H6XlxKp8PjCx6+5bAgmq3ZWZmfavbBCFpQ0mdwG/IzmA6Grg5nZm0QaUVK2sqXA7MiojiO9BNAY5Nr48lu9ZTofyYdDbTWODVQleUmZnVX7l+jrOB6cA+EfEmQBqs/h5wDvC1CuveG/gCMFPS46nsTOBc4DpJJwAvAIenebcBBwJzgL8DX+xxbczMrM+USxD7Ae8rJAeAiFgp6UxgZqUVR8S95I8rQDaeUbp8ACdXWq+ZmdVHuTGINyLiHafapLLXaxeSmZk1g3ItiHUl7cY7WwEC1qldSPUx6vRbG7btCWMatmkzs6qVSxALgQu6mfdSDWIxM7Mm0m2CiIhx9QzEzMyaSzWX2jAzswHICcLMzHI5QZiZWa5qLrVxg6SDJDmZmJkNINV86F9CdqmN2ZLOlbR9jWMyM7MmUDFBRMTvI+JoYHdgLnCHpPslfTFdjM/MzFpQVd1GkjYGjgO+BDwG/JAsYdxRs8jMzKyhKt6UQNKNwPbAVcAni66weq2k6bUMzszMGqeau9b8LCJuKy6QtE5EvB4R7TWKy8zMGqyaLqbv5pQ90NeBmJlZc+m2BSHpXWT3hB5cctG+DYD16hCbmZk1ULkupo+TDUxvydsv2rec7MY/ZmbWwspdrG8SMEnSZyLihjrGZGZmTaBcF9PnI+KXwChJp5XOL7nPtJmZtZhyXUxD0vPQegRiZmbNpVwX06Xp+az6hWNmZs2iXBfTReXeGBFf7/twzMysWZTrYppRtyjMzKzpVDqLyczMBqhuf0kt6Qfp+RZJU0oflVYs6eeSFkt6sqjsO5JelPR4ehxYNO8MSXMkPSPp46tbMTMzWz3lupiuSs/n9XLdVwI/An5RUn5hRLxtnZJ2BI4EdgK2AH4vabuIWNnLbZuZ2Woq18U0Iz1Pk7Q22RVdA3gmIt6otOKIuFvSqCrjOASYHBGvA89LmgPsga/5ZGbWMNVc7vsg4KfAs2TXY9pa0okR8dtebvOrko4BpgMTImIp2TWfHixaZn4qy4tnPDAeoK2tjc7Ozl4FMWHMil69ry+0DW7M9nu7r/pCV1dXQ7dfbwOtvuA6t6JqLvd9PjAuIuYASHoPcCvQmwRxCXA2WUvk7LTu43nrQoDFIm8FETERmAjQ3t4eHR0dvQgDjjv91l69ry9MGLOC82dWs+v71tyjO+q+zYLOzk56e6z6o4FWX3CdW1E1l/teXEgOyXPA4t5sLCIWRcTKiHgTuIysGwmyFsPIokW3BBb0ZhtmZtY3yv1Q7tPp5VOSbgOuI/tWfzjwSG82JmnzojvSfQoonOE0BfiVpAvIBqlHAw/3ZhtmZtY3yvVzfLLo9SLgo+n1X4HhlVYs6RqgA9hE0nzg/wIdknYlSzRzgRMBIuIpSdcBTwMrgJN9BpOZWWOVO4vpi6uz4og4Kqf48jLLnwOcszrbNDOzvlPNWUzrAieQ/UZh3UJ5RBxfw7jMzKzBqhmkvgp4F9kd5qaRDSAvr2VQZmbWeNUkiG0j4tvAa+n6TAcBY2oblpmZNVo1CeJf6fkVSTsDGwKjahaRmZk1hWp+rTVR0nDg22Snow5Nr83MrIVVTBAR8bP0chqwTW3DMTOzZlGxi0nSxpIulvSopBmSfiBp43oEZ2ZmjVPNGMRksktrfAY4DFgCXFvLoMzMrPGqGYPYKCLOLpr+rqRDaxWQmZk1h2paEHdJOlLSGulxBNnVXM3MrIWVu1jfcrJrJgk4DfhlmrUG0EV2bSUzM2tR5a7FtH49AzEzs+ZS1V1rJB0MfCRNdkbE1NqFZGZmzaCa01zPBU4huxT308ApqczMzFpYNS2IA4Fd013gkDQJeAw4vZaBmZlZY1VzFhPAsKLXG9YiEDMzay7VtCC+Bzwm6S6yM5o+ApxR06jMzKzhyiYISQLuBcYCHyBLEN+KiJfqEJuZmTVQ2QQRESHpNxHxfrIruZqZ2QBRzRjEg5I+UPNIzMysqVQzBjEOOEnSXOA1sm6miIj31TIwMzNrrGoSxAE1j8LMzJpOt11MktaVdCrwn8D+wIsR8ZfCo9KKJf1c0mJJTxaVbSTpDkmz0/PwVC5JF0maI+kJSbv3Qd3MzGw1lBuDmAS0AzPJWhHn93DdV5IllmKnA3dGxGjgTt76sd0BwOj0GA9c0sNtmZlZHyvXxbRjRIwBkHQ58HBPVhwRd0saVVJ8CNCRXk8COoFvpfJfRESQDYoPk7R5RCzsyTbNzKzvlEsQ/yq8iIgV2U8iVltb4UM/IhZK2iyVjwDmFS03P5W9I0FIGk/WyqCtrY3Ozs5eBTJhzIpeva8vtA1uzPZ7u6/6QldXV0O3X28Drb7gOreicgliF0nL0msBg9N04SymDfowjrzsE3kLRsREYCJAe3t7dHR09GqDx53euHseTRizgvNnVnUh3T419+iOum+zoLOzk94eq/5ooNUXXOdWVO5+EGvWYHuLCl1HkjYnu9c1ZC2GkUXLbQksqMH2zcysStVerK+vTAGOTa+PBW4uKj8mnc00FnjV4w9mZo1Vs34OSdeQDUhvImk+2S1KzwWuk3QC8AJweFr8NrLLis8B/g58sVZxmZlZdWqWICLiqG5m7ZuzbAAn1yoWMzPrufqPlFrDjGrgwPyV+w9p2LbNrHfqPQZhZmb9hBOEmZnlcoIwM7NcThBmZpbLCcLMzHI5QZiZWS4nCDMzy+UEYWZmuZwgzMwslxOEmZnlcoIwM7NcThBmZpbLCcLMzHI5QZiZWS4nCDMzy+UEYWZmuZwgzMwslxOEmZnlcoIwM7NcThBmZpbLCcLMzHINasRGJc0FlgMrgRUR0S5pI+BaYBQwFzgiIpY2Ij4zM2tsC2JcROwaEe1p+nTgzogYDdyZps3MrEGaqYvpEGBSej0JOLSBsZiZDXiKiPpvVHoeWAoEcGlETJT0SkQMK1pmaUQMz3nveGA8QFtb2/snT57cqxhmvvhqr97XF9oGw6J/NGzzDbH1hmsydOjQRodRN11dXQOqvuA69yfjxo2bUdR7061GJYgtImKBpM2AO4CvAVOqSRDF2tvbY/r06b2KYdTpt/bqfX1hwpgVnD+zIcM/DXPl/kPo6OhodBh109nZOaDqC65zfyKpqgTRkC6miFiQnhcDNwF7AIskbQ6Qnhc3IjYzM8vUPUFIGiJp/cJr4GPAk8AU4Ni02LHAzfWOzczM3tKIfo424CZJhe3/KiJ+J+kR4DpJJwAvAIc3IDYzM0vqniAi4jlgl5zyvwH71jseMzPL10ynuZqZWRNxgjAzs1xOEGZmlssJwszMcjlBmJlZLicIMzPL5QRhZma5nCDMzCyXE4SZmeVygjAzs1xOEGZmlssJwszMcg2su9ZYw8x88VWOa8BNmuaee1Ddt2nWKtyCMDOzXE4QZmaWywnCzMxyOUGYmVkuJwgzM8vls5ispY1qwJlTABPGrKCjIVs26ztuQZiZWS63IMxqpFGtF//2w/qKWxBmZpbLCcLMzHI1XYKQtL+kZyTNkXR6o+MxMxuommoMQtKawI+BfwPmA49ImhIRTzc2MjOrpFHX24LGjbu0ep2brQWxBzAnIp6LiDeAycAhDY7JzGxAUkQ0OoZVJB0G7B8RX0rTXwA+GBFfLVpmPDA+Tb4XeKbuga6+TYAljQ6izgZanQdafcF17k+2iohNKy3UVF1MgHLK3pbBImIiMLE+4dSGpOkR0d7oOOppoNV5oNUXXOdW1GxdTPOBkUXTWwILGhSLmdmA1mwJ4hFgtKStJa0NHAlMaXBMZmYDUlN1MUXECklfBW4H1gR+HhFPNTisWujXXWS9NNDqPNDqC65zy2mqQWozM2sezdbFZGZmTcIJwszMcjlB1FGrXkZE0khJd0maJekpSaek8o0k3SFpdnoensol6aK0H56QtHtja9B7ktaU9JikqWl6a0kPpTpfm062QNI6aXpOmj+qkXH3lqRhkq6X9Kd0vPds9eMs6Rvp7/pJSddIWrfVj3OBE0SdFF1G5ABgR+AoSTs2Nqo+swKYEBE7AGOBk1PdTgfujIjRwJ1pGrJ9MDo9xgOX1D/kPnMKMKto+vvAhanOS4ETUvkJwNKI2Ba4MC3XH/0Q+F1EbA/sQlb3lj3OkkYAXwfaI2JnspNnjqT1j3MmIvyowwPYE7i9aPoM4IxGx1Wjut5Mdj2tZ4DNU9nmwDPp9aXAUUXLr1quPz3IfqdzJ7APMJXsh55LgEGlx5zszLw90+tBaTk1ug49rO8GwPOlcbfycQZGAPOAjdJxmwp8vJWPc/HDLYj6KfyhFcxPZS0lNal3Ax4C2iJiIUB63iwt1ir74gfAN4E30/TGwCsRsSJNF9drVZ3T/FfT8v3JNsBfgStSt9rPJA2hhY9zRLwInAe8ACwkO24zaO3jvIoTRP1UvIxIfydpKHADcGpELCu3aE5Zv9oXkj4BLI6IGcXFOYtGFfP6i0HA7sAlEbEb8BpvdSfl6fd1TuMphwBbA1sAQ8i6zkq10nFexQmiflr6MiKS1iJLDldHxI2peJGkzdP8zYHFqbwV9sXewMGS5pJddXgfshbFMEmFH6AW12tVndP8DYGX6xlwH5gPzI+Ih9L09WQJo5WP837A8xHx14j4F3AjsBetfZxXcYKon5a9jIgkAZcDsyLigqJZU4Bj0+tjycYmCuXHpLNcxgKvFroo+ouIOCMitoyIUWTH8g8RcTRwF3BYWqy0zoV9cVhavl99s4yIl4B5kt6bivYFnqaFjzNZ19JYSeulv/NCnVv2OL9NowdBBtIDOBD4M/As8L8aHU8f1utDZM3oJ4DH0+NAsr7XO4HZ6XmjtLzIzuh6FphJdoZIw+uxGvXvAKam19sADwNzgF8D66TyddP0nDR/m0bH3cu67gpMT8f6N8DwVj/OwFnAn4AngauAdVr9OBcevtSGmZnlcheTmZnlcoIwM7NcThBmZpbLCcLMzHI5QZiZWS4nCLMSki6UdGrR9O2SflY0fb6k08q8//4qtjFX0iY55R2S9upN3GZ9zQnC7J3uJ/u1LJLWADYBdiqavxdwX3dvjojV+YDvKGzbrNGcIMze6T7e+pDeiewHUsslDZe0DrAD8Jik/5T0SLrXwVmFN0vqSs9rSPpJupfAVEm3STqsaDtfk/SopJmStk8XOjwJ+IakxyV9uA51NevWoMqLmA0sEbFA0gpJ7yZLFA+QXaVzT7Krcz5B9k1/NLAH2S+Gp0j6SETcXbSqTwOjgDFFkPxQAAABOElEQVRkVzidBfy8aP6SiNhd0leA/4iIL0n6KdAVEefVso5m1XALwixfoRVRSBAPFE3fD3wsPR4DHgW2J0sYxT4E/Doi3ozsOkZ3lcwvXNRwBlkiMWsqbkGY5SuMQ4wh62KaB0wAlpG1AjqA70XEpWXWkXfp52Kvp+eV+H/RmpBbEGb57gM+AbwcESsj4mVgGFk30wNkdw47Pt0DA0kjJG1Wso57gc+ksYg2sqRSyXJg/T6qg9lqcYIwyzeT7OylB0vKXo2IJRHxP8CvgAckzSS7N0LpB/sNZPcHeJLs9psPkY1hlHML8CkPUlsz8NVczWpI0tCI6JK0Mdnln/dO4xFmTc/9nma1NVXSMGBt4GwnB+tP3IIwM7NcHoMwM7NcThBmZpbLCcLMzHI5QZiZWS4nCDMzy/X/AW/cv1mW7IfQAAAAAElFTkSuQmCC\n",
      "text/plain": [
       "<Figure size 432x288 with 1 Axes>"
      ]
     },
     "metadata": {},
     "output_type": "display_data"
    },
    {
     "name": "stdout",
     "output_type": "stream",
     "text": [
      "Mean Weight for male heroes: 59.25615342943282\n",
      "Median Weight for male heroes: 79.0\n"
     ]
    }
   ],
   "source": [
    "# Male Weight\n",
    "show_distplot(heroes_and_powers_df, 'Male', 'Weight')\n",
    "print(\"Mean Weight for male heroes: {}\".format(male_heroes_df.Weight.mean()))\n",
    "print(\"Median Weight for male heroes: {}\".format(male_heroes_df.Weight.median()))"
   ]
  },
  {
   "cell_type": "code",
   "execution_count": 26,
   "metadata": {},
   "outputs": [
    {
     "data": {
      "image/png": "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\n",
      "text/plain": [
       "<Figure size 432x288 with 1 Axes>"
      ]
     },
     "metadata": {},
     "output_type": "display_data"
    },
    {
     "name": "stdout",
     "output_type": "stream",
     "text": [
      "Mean Height for female heroes: 111.6938202247191\n",
      "Median Height for female heroes: 168.0\n"
     ]
    }
   ],
   "source": [
    "# Female Height\n",
    "show_distplot(heroes_and_powers_df, 'Female', 'Height')\n",
    "print(\"Mean Height for female heroes: {}\".format(female_heroes_df.Height.mean()))\n",
    "print(\"Median Height for female heroes: {}\".format(female_heroes_df.Height.median()))"
   ]
  },
  {
   "cell_type": "code",
   "execution_count": 28,
   "metadata": {},
   "outputs": [
    {
     "data": {
      "image/png": "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\n",
      "text/plain": [
       "<Figure size 432x288 with 1 Axes>"
      ]
     },
     "metadata": {},
     "output_type": "display_data"
    },
    {
     "name": "stdout",
     "output_type": "stream",
     "text": [
      "Mean Height for female heroes: 36.651685393258425\n",
      "Median Height for female heroes: 54.5\n"
     ]
    }
   ],
   "source": [
    "# Female Weight\n",
    "show_distplot(heroes_and_powers_df, 'Female', 'Weight')\n",
    "print(\"Mean Height for female heroes: {}\".format(female_heroes_df.Weight.mean()))\n",
    "print(\"Median Height for female heroes: {}\".format(female_heroes_df.Weight.median()))"
   ]
  },
  {
   "cell_type": "markdown",
   "metadata": {},
   "source": [
    "Discuss your findings from the plots above, with respect to the distribution of height and weight by gender.  Your explanation should include discussion of any relevant summary statistics, including mean, median, mode, and the overall shape of each distribution.  \n",
    "\n",
    "Wite your answer below this line:\n",
    "____________________________________________________________________________________________________________________________\n",
    "\n"
   ]
  },
  {
   "cell_type": "markdown",
   "metadata": {},
   "source": [
    "Heights and weights below zero are set to -99, which suggests that we \n",
    "missed these erroneous filled values. Below we will remove these values \n",
    "and replot accordingly.\n"
   ]
  },
  {
   "cell_type": "code",
   "execution_count": 34,
   "metadata": {},
   "outputs": [
    {
     "name": "stdout",
     "output_type": "stream",
     "text": [
      "\"Height\" column filled with -99.0    217\n",
      "Name: Height, dtype: int64\n",
      "\n",
      "\n",
      "\"Weight\" column filled with -99.0    237\n",
      "Name: Weight, dtype: int64\n"
     ]
    }
   ],
   "source": [
    "print('\"Height\" column filled with {}'.format(heroes_df[heroes_df.Height < 0].Height.value_counts()))\n",
    "print('\\n\\n\"Weight\" column filled with {}'.format(heroes_df[heroes_df.Weight < 0].Weight.value_counts()))\n",
    "\n"
   ]
  },
  {
   "cell_type": "code",
   "execution_count": 37,
   "metadata": {},
   "outputs": [
    {
     "data": {
      "image/png": "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\n",
      "text/plain": [
       "<Figure size 432x288 with 1 Axes>"
      ]
     },
     "metadata": {},
     "output_type": "display_data"
    },
    {
     "name": "stdout",
     "output_type": "stream",
     "text": [
      "Mean Height for Male heroes: 192.4622093023256\n",
      "Median Height for Male heroes: 185.0\n"
     ]
    },
    {
     "data": {
      "image/png": "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\n",
      "text/plain": [
       "<Figure size 432x288 with 1 Axes>"
      ]
     },
     "metadata": {},
     "output_type": "display_data"
    },
    {
     "name": "stdout",
     "output_type": "stream",
     "text": [
      "Mean Height for Female heroes: 174.74817518248176\n",
      "Median Height for Female heroes: 170.0\n"
     ]
    },
    {
     "data": {
      "image/png": "iVBORw0KGgoAAAANSUhEUgAAAYgAAAEWCAYAAAB8LwAVAAAABHNCSVQICAgIfAhkiAAAAAlwSFlzAAALEgAACxIB0t1+/AAAADl0RVh0U29mdHdhcmUAbWF0cGxvdGxpYiB2ZXJzaW9uIDIuMi4yLCBodHRwOi8vbWF0cGxvdGxpYi5vcmcvhp/UCwAAIABJREFUeJzt3XmUXFW59/Hvj3kIJGFqQ4gEJMgUZWgZVTrCVQFlUEAQBQQNXFFBuFeBd/kqL6K4ZFBQwShixGhABhMCiIh0mKcAEiBigkQICYkxAdKIQMLz/nF2kerK6erqTp+uStfvs1atqrPPqX2es7u6ntr7TIoIzMzMKq1W7wDMzKwxOUGYmVkuJwgzM8vlBGFmZrmcIMzMLJcThJmZ5XKCMCRdLukbNS77S0nfLjied0rqkLR6H9X39vZJapM0py/qTfV9QNLTfVVfD9b7bkmPSloi6SsFrickbVNU/dbYnCBWQZLOknRzRdnMLsqO6q6+iDg5Is7to9iqfqFIOl7SspQAOiQ9K+lKSduWxfNcRAyKiGXdrOt4SXd3F1OR2xcRd0XEu/ui7h76GtAeERtExCWVMyW1p1jfW1H++1TeVmRwXf1tJM2WtH+R67a+4wSxaroT2Kf0C1vSO4A1gV0ryrZJyzaa+yJiEDAY2B94DZgmaae+XlFf9UIa0JbAk90s8zfg2NKEpI2BPYF/FhhXISStUe8YmpETxKrpIbKEsHOa/iBwB/B0RdkzETEXQNJ2km6TtEjS05KOLFVWOWwk6WuS5kmaK+nzOb2CoZJuSsMbD0h6V3pfKRn9JfUOPlVtIyJiWUQ8ExFfBKYC30r1jEzrXCNNHy/p72l9z0o6RtL2wOXAXmldL5Vty2WSbpb0KjAmb1hM0tmSFqZftMeUlbdL+nzZ9Nu/hPO2r3LIStL2qY6XJD0p6eCKdv5xXtvlkXRwquOlVOf2qfzPwBjgRymObbuoYgLwqbIkeTRwA/BG2Tp2l3RfWsc8ST+StFYX8awt6QJJz0mar2zobt2u4q+FpBMkzZC0WNKtkrYsmxeSTpE0E5iZyvaW9JCkl9Pz3mXLD5Z0RdqOFyR9u+wH0zaSpqb3LZR09crE3SycIFZBEfEG8ABZEiA93wXcXVF2J4Ck9YHbgN8Am5F9UfxE0o6VdUv6KHA62S/7bYB9c0I4GjgHGArMAs5LcZXW/d40RNSTf8LrgQ/kxLM+cAlwQERsAOwNPBYRM4CTSb2RiBhS9rZPp5g2IGuTSu8ANgGGA8cB4yR1O0zU3fZJWhO4EfgjWTt/GZhQUXdu2+Vs97bAb4HTgE2Bm4EbJa0VER8i+3t/KcXxty5Cngs8BXw4TR8L/KpimWXAV8naYy9gP+CLXdT3PWBbsh8h25C13//tYtluSToUOBv4BNk23kW2zeUOBfYAdpC0EXAT2edhY+Ai4KbUMwIYDyxNse1Ctt2lZH8u2d9lKLAFcGlv424mThCrrqksTwYfIPvnuquibGp6/TFgdkRcGRFLI+IR4Drg8Jx6jwSujIgnI+LfZF9mla6PiAcjYinZr9Sdc5bpqbnARl3MewvYSdK6ETEvIrobWpkUEfdExFsR8Z8ulvlGRLweEVPJvnSO7GK5ntgTGAScHxFvRMSfgSlkSaGk1rb7FHBTRNwWEW8CFwDrkiXInvgVcGxKUkMi4r7ymRExLSLuT5+L2cBPyflRIEnAF4CvRsSiiFgCfAeoto9rz9QzefsBvLNs/knAdyNiRmqP7wA7l/ci0vxFEfEacBAwMyKuSvH+Fvgr8HFJLcABwGkR8WpELAAuLovvTbJhuc0j4j8R0e2+K3OCWJXdCbxf0lBg04iYCdwL7J3KdmL5/octgT0q/lGPIfslXWlz4Pmy6edzlnmx7PW/yb4UV9ZwYFFlYUS8SvZleTIwLw3PbNdNXXkxl1uc6i35B9l2r6zNgecj4q2KuoeXTdfadpun9wKQ6ny+oq5aXA98iKw3c1XlTEnbSpoi6UVJr5B9SW+SU8+mwHpk+4pKn6E/pPKu3B8RQ8ofwHNl87cEflhW3yJAFdtY/rfs1CZJqX23JBt2nVdW30/JenKQ7dQX8GAatjuhStyWOEGsuu4j28k7FrgHICJeIfslPhaYGxHPpmWfB6ZW/LMOioj/zql3HlkXvGREYVvQ2WFkPaAVRMStEfFfwDCyX4w/K83qoq7uLlE8NA1dlbyTrN0AXiX7IizJS6JdmQuMkFT+f/VO4IUe1FFeV/l4vMj+Fj2qK/UCbwH+m5wEAVxG1qajImJDsiEf5Sy3kOxggh3LPkOD08EGvfU8cFLF53LdiLi3fBPKXndqk6TUvs8DrwOblNW1YUTsCBARL0bEFyJic7Key0/kw3e75QSxikpd7ofJ9heUf7HencrKj16aAmwr6bOS1kyP95V2ela4Bvhc2tm6Hj0fY54PbF3LgpJWl7SVpEuBNnKGsyS1pJ2165N9AXSQjZuX1rVFVztVu3GOpLUkfYBsCO53qfwx4BOS1ktfICdWvK/a9j1AlmC+ltq4Dfg4MLEX8V0DHCRpv7Rv4wyy7b+3+ttynQ3sm4aQKm0AvAJ0pJ5Z3o+GUg/mZ8DFkjYDkDRc0kd6EU/J5cBZpX1haSfzEVWWv5nsc/xpSWsoOwhiB2BKRMwj28dwoaQNJa0m6V2S9k11HyGp9MNnMVniqXoYtTlBrOqmknWhy8dT70plbyeINF78YbLx2LlkwxzfA9aurDAibiHbCXgH2U7U0pj16zXG9C1gfOrmdzWuv5ekDrIvpnZgQ+B9ETE9Z9nVyL4c55INQezL8p2ofyY71PNFSQtrjA+y7V+c6pwAnBwRf03zLiY7ymc+2U7PCbVuXzp44GCysfCFwE+AY8vqrllEPA18hmxn6kKyRPPxtI6e1jW3ypj7/5Dt1F9ClgCqHVjwdbLPxP1pOOpPQK/PAYmIG8g+hxNTfU+QtV1Xy/+LLJmfAfyLbNjoYxFR+tsfC6xFtmN+MXAtWa8T4H3AA+lzNxk4tayHbV2Qbxhk1aRexhPA2mlHopk1CfcgbAWSDkvDL0PJfuHd6ORg1nycICzPSWRn2z5DNk6bOy5tZgObh5jMzCyXexBmZpZrlb4A1iabbBIjR47s1XtfffVV1l9//e4XbBJuj+XcFp25PTobCO0xbdq0hRFR7SRHYBVPECNHjuThhx/u1Xvb29tpa2vr24BWYW6P5dwWnbk9OhsI7SGp8oz0XB5iMjOzXE4QZmaWywnCzMxyOUGYmVkuJwgzM8vlBGFmZrmcIMzMLJcThJmZ5SosQUhaR9KDkv6SbvF3TirfStIDkmZKurp0sxdJa6fpWWn+yKJiMzOz7hV5JvXrwIcioiPdEetuSbeQ3e3s4oiYKOlysjt2XZaeF0fENpKOIrvM9KeKCm76Cy9z/Jk3FVV9VbPPP6gu6zUz64nCehCR6UiTa6ZHkN1A/dpUPh44NL0+JE2T5u+X7sNrZmZ1UOjlviWtDkwDtgF+DHwfuD8itknzRwC3RMROkp4APhoRc9K8Z4A9ym4nWKpzLDAWoKWlZbeJE3tzu19YsOhl5r/Wu+1aWaOHD67Piqvo6Ohg0KCVuf/8wOG26Mzt0dlAaI8xY8ZMi4jW7pYr9GJ9EbEM2FnSEOAGYPu8xdJzXm9hhewVEeOAcQCtra3R24tmXTphEhdOr8+1Cmcf01aX9VYzEC5A1lfcFp25PTprpvbol6OYIuIlspvT7wkMkVT6Zt6C7MbxAHOAEQBp/mCym9SbmVkdFHkU06ap54CkdYH9gRnAHcDhabHjgEnp9eQ0TZr/5/Dt7szM6qbIMZZhwPi0H2I14JqImCLpKWCipG8DjwJXpOWvAK6SNIus53BUgbGZmVk3CksQEfE4sEtO+d+B3XPK/wMcUVQ8ZmbWMz6T2szMcjlBmJlZLicIMzPL5QRhZma5nCDMzCyXE4SZmeVygjAzs1xOEGZmlssJwszMcjlBmJlZLicIMzPL5QRhZma5nCDMzCyXE4SZmeVygjAzs1xOEGZmlssJwszMcjlBmJlZLicIMzPL5QRhZma5nCDMzCyXE4SZmeVygjAzs1xOEGZmlssJwszMchWWICSNkHSHpBmSnpR0air/lqQXJD2WHgeWvecsSbMkPS3pI0XFZmZm3VujwLqXAmdExCOSNgCmSbotzbs4Ii4oX1jSDsBRwI7A5sCfJG0bEcsKjNHMzLpQWA8iIuZFxCPp9RJgBjC8ylsOASZGxOsR8SwwC9i9qPjMzKw6RUTxK5FGAncCOwGnA8cDrwAPk/UyFkv6EXB/RPw6vecK4JaIuLairrHAWICWlpbdJk6c2KuYFix6mfmv9eqtK2308MH1WXEVHR0dDBo0qN5hNAS3RWduj84GQnuMGTNmWkS0drdckUNMAEgaBFwHnBYRr0i6DDgXiPR8IXACoJy3r5C9ImIcMA6gtbU12traehXXpRMmceH0wjc/1+xj2uqy3mra29vpbVsONG6LztwenTVTexR6FJOkNcmSw4SIuB4gIuZHxLKIeAv4GcuHkeYAI8revgUwt8j4zMysa0UexSTgCmBGRFxUVj6sbLHDgCfS68nAUZLWlrQVMAp4sKj4zMysuiLHWPYBPgtMl/RYKjsbOFrSzmTDR7OBkwAi4klJ1wBPkR0BdYqPYDIzq5/CEkRE3E3+foWbq7znPOC8omIyM7Pa+UxqMzPL5QRhZma5nCDMzCyXE4SZmeVygjAzs1xOEGZmlssJwszMcjlBmJlZLicIMzPL5QRhZma5uk0Qklbvj0DMzKyx1NKDmCXp++mWoGZm1iRqSRDvAf4G/FzS/ZLGStqw4LjMzKzOuk0QEbEkIn4WEXsDXwO+CcyTNF7SNoVHaGZmdVHTPghJB0u6Afgh2S1CtwZupMqlu83MbNVWy/0gZgJ3AN+PiHvLyq+V9MFiwjIzs3qrJUEcm27+8zZJ+0TEPRHxlYLiMjOzOqtlJ/UlOWWX9nUgZmbWWLrsQUjaC9gb2FTS6WWzNgR8boSZ2QBXbYhpLWBQWmaDsvJXgMOLDMrMzOqvywQREVOBqZJ+GRH/6MeYzMysAVQbYvpBRJwG/EhSVM6PiIMLjczMzOqq2hDTVen5gv4IxMzMGku1IaZp6XlqqUzSUGBERDzeD7GZmVkd1XImdbukDSVtBPwFuFLSRcWHZmZm9VTLeRCDI+IV4BPAlRGxG7B/d2+SNELSHZJmSHpS0qmpfCNJt0mamZ6HpnJJukTSLEmPS9p1ZTbMzMxWTi0JYg1Jw4AjgSk9qHspcEZEbA/sCZySLhl+JnB7RIwCbk/TAAcAo9JjLHBZD9ZlZmZ9rJYE8f+AW4FZEfGQpK3Jrs9UVUTMi4hH0uslwAxgOHAIMD4tNh44NL0+BPhVZO4HhqTEZGZmdaCIFY5g7fuVSCOBO4GdgOciYkjZvMURMVTSFOD80nWfJN0OfD0iHq6oayxZD4OWlpbdJk6c2KuYFix6mfmv9eqtK2308MH1WXEVHR0dDBo0qN5hNAS3RWduj84GQnuMGTNmWkS0drdctxfrk7Qp8AVgZPnyEXFCLYFIGgRcB5wWEa9I6nLRnLK88y/GAeMAWltbo62trZYwVnDphElcOL2WaxX2vdnHtNVlvdW0t7fT27YcaNwWnbk9Omum9qjlG3IScBfwJ2BZTyqXtCZZcpgQEden4vmShkXEvDSEtCCVzwFGlL19C2BuT9ZnZmZ9p5YEsV5EfL2nFSvrKlwBzIiI8sNiJwPHAeen50ll5V+SNBHYA3g5Iub1dL1mZtY3akkQUyQdGBE9vXvcPsBngemSHktlZ5MlhmsknQg8BxyR5t0MHAjMAv4NfK6H6zMzsz5US4I4FThb0hvAG2T7CiIiNqz2prSzuasdDvvlLB/AKTXEY2Zm/aDbBBERG3S3jJmZDTy1XGpDkj4j6RtpeoSk3YsPzczM6qmWE+V+AuwFfDpNdwA/LiwiMzNrCLXsg9gjInaV9ChARCyWtFbBcZmZWZ3V0oN4U9LqpJPW0olzbxUalZmZ1V0tCeIS4AZgM0nnAXcD3yk0KjMzq7tajmKaIGka2aGpAg6NiBmFR2ZmZnVVy7WYRgPbkV0SY4aTg5lZc+gyQUgaTHYZjBHA42S9h9GSngMOSTcRMjOzAaraPohzgYeBURFxWEQcCmwLPASc1x/BmZlZ/VQbYtofeE9EvH3EUkQsk3Q2ML3wyMzMrK6q9SDeiIillYWp7PXiQjIzs0ZQrQexjqRdWPGCewLWLi4kMzNrBNUSxDzgoi7mvVhALGZm1kC6TBARMaY/AzEzs8ZSy5nUZmbWhJwgzMwslxOEmZnlquWGQddJOkiSk4mZWROp5Uv/MrKbBc2UdL6k7QqOyczMGkC3CSIi/hQRxwC7ArOB2yTdK+lzktYsOkAzM6uPmoaNJG0MHA98HngU+CFZwritsMjMzKyuarnc9/Vkl/u+Cvh4RMxLs66W9HCRwZmZWf3Uck/qn0fEzeUFktaOiNcjorWguMzMrM5qGWL6dk7ZfX0diJmZNZYuE4Skd0jaDVhX0i6Sdk2PNmC97iqW9AtJCyQ9UVb2LUkvSHosPQ4sm3eWpFmSnpb0kZXcLjMzW0nVhpg+QrZjegs6X7RvCXB2DXX/EvgR8KuK8osj4oLyAkk7AEcBOwKbA3+StG1ELKthPWZmVoBqF+sbD4yX9MmIuK6nFUfEnZJG1rj4IcDEiHgdeFbSLGB3PJRlZlY31e5J/ZmI+DUwUtLplfMjoqtLgXfnS5KOJbud6RkRsRgYDtxftsycVJYX11hgLEBLSwvt7e29CqJlXThj9Ar3Q+oXvY25SB0dHQ0ZVz24LTpze3TWTO1RbYhp/fQ8qA/XdxnZva4jPV8InMCKNyUiLbNiYcQ4YBxAa2trtLW19SqQSydM4sLptRzE1fdmH9NWl/VW097eTm/bcqBxW3Tm9uismdqj2hDTT9PzOX21soiYX3ot6WfAlDQ5BxhRtugWwNy+Wq+ZmfVctSGmS6q9MSK+0tOVSRpWdqLdYUDpCKfJwG8kXUS2k3oU8GBP6zczs75TbYxl2spULOm3QBuwiaQ5wDeBNkk7kw0fzQZOAoiIJyVdAzwFLAVO8RFMZmb11d1RTL0WEUfnFF9RZfnzgPNWZp1mZtZ3qg0x/SAiTpN0Izk7jCPi4EIjMzOzuqo2xHRVer6gyjJmZjZAVRtimpaep0pai+yKrgE8HRFv9FN8ZmZWJ7Vc7vsg4HLgGbLzFbaSdFJE3FJ0cGZmVj+1nCl2ITAmImYBSHoXcBPgBGFmNoDVcrnvBaXkkPwdWFBQPGZm1iCqHcX0ifTySUk3A9eQ7YM4AnioH2IzM7M6qjbE9PGy1/OBfdPrfwJDC4vIzMwaQrWjmD7Xn4GYmVljqeUopnWAE8lu5rNOqTwiTigwLjMzq7NadlJfBbyD7A5zU8mutLqkyKDMzKz+akkQ20TEN4BX0/WZDgJGFxuWmZnVWy0J4s30/JKknYDBwMjCIjIzs4ZQy4ly4yQNBb5Bdt+GQem1mZkNYN0miIj4eXo5Fdi62HDMzKxRdDvEJGljSZdKekTSNEk/kLRxfwRnZmb1U8s+iIlkl9b4JHA4sBC4usigzMys/mrZB7FRRJxbNv1tSYcWFZCZmTWGWnoQd0g6StJq6XEk2dVczcxsAKt2sb4lZBfnE3A68Os0azWgA/hm4dGZmVndVLsW0wb9GUgzGXlmfTpgs88/qC7rNbNVUy37IJB0MPDBNNkeEVOKC8nMzBpBLYe5ng+cCjyVHqemMjMzG8Bq6UEcCOwcEW8BSBoPPAqcWWRgZmZWX7UcxQQwpOz14CICMTOzxlJLgvgu8KikX6bewzTgO929SdIvJC2Q9ERZ2UaSbpM0Mz0PTeWSdImkWZIel7RrbzfIzMz6RtUEIUnA3cCewPXpsVdETKyh7l8CH60oOxO4PSJGAbezfJjqAGBUeowFLqsxfjMzK0jVBBERAfw+IuZFxOSImBQRL9ZScUTcCSyqKD4EGJ9ejwcOLSv/VWTuB4ZIGlbzVpiZWZ+rZSf1/ZLeFxEP9cH6WiJiHkBEzJO0WSofDjxfttycVDavsgJJY8l6GbS0tNDe3t67QNaFM0Yv7dV7V1XV2qqjo6PXbTnQuC06c3t01kztUUuCGAOcLGk28CrZmdUREe/pwziUUxZ5C0bEOGAcQGtra7S1tfVqhZdOmMSF02s6DWTAmH1MW5fz2tvb6W1bDjRui87cHp01U3vU8g15QB+ub76kYan3MIzsKrGQ9RhGlC23BTC3D9drZmY91OU+CEnrSDoN+F+ync0vRMQ/So9erm8ycFx6fRwwqaz82HQ0057Ay6WhKDMzq49qPYjxZPejvousF7ED2RnVNZH0W6AN2ETSHLKL+50PXCPpROA54Ii0+M1kJ+TNAv4NfK5HW2FmZn2uWoLYISJGA0i6AniwJxVHxNFdzNovZ9kATulJ/WZmVqxqh7m+WXoREc11uI+ZmVXtQbxX0ivptYB103TpKKYNC4/OzMzqptr9IFbvz0DMzKyx1HqxPjMzazJOEGZmlssJwszMcjlBmJlZLicIMzPL5QRhZma5nCDMzCyXE4SZmeVygjAzs1xOEGZmlssJwszMcjlBmJlZLicIMzPL5QRhZma5nCDMzCyXE4SZmeVygjAzs1xOEGZmlssJwszMcjlBmJlZLicIMzPL5QRhZma51qjHSiXNBpYAy4ClEdEqaSPgamAkMBs4MiIW1yM+MzOrbw9iTETsHBGtafpM4PaIGAXcnqbNzKxOGmmI6RBgfHo9Hji0jrGYmTW9eiWIAP4oaZqksamsJSLmAaTnzeoUm5mZAYqI/l+ptHlEzJW0GXAb8GVgckQMKVtmcUQMzXnvWGAsQEtLy24TJ07sVQwLFr3M/Nd69dZV1ujhg7uc19HRwaBBg/oxmsbltujM7dHZQGiPMWPGTCsb3u9SXXZSR8Tc9LxA0g3A7sB8ScMiYp6kYcCCLt47DhgH0NraGm1tbb2K4dIJk7hwel02v25mH9PW5bz29nZ625YDjduiM7dHZ83UHv0+xCRpfUkblF4DHwaeACYDx6XFjgMm9XdsZma2XD1+QrcAN0gqrf83EfEHSQ8B10g6EXgOOKIOsZmZWdLvCSIi/g68N6f8X8B+/R2PmZnla6TDXM3MrIE4QZiZWS4nCDMzy+UEYWZmuZwgzMwslxOEmZnlcoIwM7NcThBmZpbLCcLMzHI5QZiZWS4nCDMzy+UEYWZmuZwgzMwsV3PdMafJjTzzpi7nnTF6KcdXmb+yZp9/UGF1m1kx3IMwM7NcThBmZpbLCcLMzHI5QZiZWS4nCDMzy+WjmKxfVDuCqkg+esqs99yDMDOzXE4QZmaWywnCzMxyeR+EDWi92ffRV2eVe/+HrercgzAzs1xOEGZmlqvhEoSkj0p6WtIsSWfWOx4zs2bVUPsgJK0O/Bj4L2AO8JCkyRHxVH0jM+u5ep370ddq3SfTjPtc6vk37o/2brQexO7ArIj4e0S8AUwEDqlzTGZmTUkRUe8Y3ibpcOCjEfH5NP1ZYI+I+FLZMmOBsWny3cDTvVzdJsDClQh3oHF7LOe26Mzt0dlAaI8tI2LT7hZqqCEmQDllnTJYRIwDxq30iqSHI6J1ZesZKNwey7ktOnN7dNZM7dFoQ0xzgBFl01sAc+sUi5lZU2u0BPEQMErSVpLWAo4CJtc5JjOzptRQQ0wRsVTSl4BbgdWBX0TEkwWtbqWHqQYYt8dybovO3B6dNU17NNROajMzaxyNNsRkZmYNwgnCzMxyNV2CaMZLeUgaIekOSTMkPSnp1FS+kaTbJM1Mz0NTuSRdktrocUm71ncL+p6k1SU9KmlKmt5K0gOpLa5OB0kgae00PSvNH1nPuIsgaYikayX9NX1G9mryz8ZX0//JE5J+K2mdZv18NFWCKLuUxwHADsDRknaob1T9YilwRkRsD+wJnJK2+0zg9ogYBdyepiFrn1HpMRa4rP9DLtypwIyy6e8BF6e2WAycmMpPBBZHxDbAxWm5geaHwB8iYjvgvWTt0pSfDUnDga8ArRGxE9nBMkfRrJ+PiGiaB7AXcGvZ9FnAWfWOqw7tMInseldPA8NS2TDg6fT6p8DRZcu/vdxAeJCdX3M78CFgCtkJmguBNSo/J2RH1O2VXq+RllO9t6EP22JD4NnKbWriz8Zw4Hlgo/T3ngJ8pFk/H03Vg2D5H79kTiprGqkLvAvwANASEfMA0vNmabGB3k4/AL4GvJWmNwZeioilabp8e99uizT/5bT8QLE18E/gyjTk9nNJ69Okn42IeAG4AHgOmEf2955Gk34+mi1BdHspj4FM0iDgOuC0iHil2qI5ZQOinSR9DFgQEdPKi3MWjRrmDQRrALsCl0XELsCrLB9OyjOg2yPtazkE2ArYHFifbFitUlN8PpotQTTtpTwkrUmWHCZExPWpeL6kYWn+MGBBKh/I7bQPcLCk2WRXC/4QWY9iiKTSiaPl2/t2W6T5g4FF/RlwweYAcyLigTR9LVnCaMbPBsD+wLMR8c+IeBO4HtibJv18NFuCaMpLeUgScAUwIyIuKps1GTguvT6ObN9EqfzYdMTKnsDLpeGGVV1EnBURW0TESLK//58j4hjgDuDwtFhlW5Ta6PC0/ID5hRgRLwLPS3p3KtoPeIom/GwkzwF7Slov/d+U2qMpPx913wnS3w/gQOBvwDPA/6l3PP20ze8n6/Y+DjyWHgeSjZXeDsxMzxul5UV2tNczwHSyIzrqvh0FtEsbMCW93hp4EJgF/A5YO5Wvk6Znpflb1zvuAtphZ+Dh9Pn4PTC0mT8bwDnAX4EngKuAtZv18+FLbZiZWa5mG2IyM7MaOUGYmVkuJwgzM8vlBGFmZrmcIMzMLJcThFkFSRdLOq1s+lZJPy+bvlDS6VXef28N65gtaZOc8jZJe/cmbrO+5gRhtqJ7yc6eRdJqwCbAjmXz9wbu6erNEbEyX/BtpXWb1ZsThNmK7mH5l/SOZCdMLZE0VNLawPbAo5L+V9JD6b4I55TeLKkjPa8m6Sfp3gJTJN0s6fCy9XxZ0iOSpkvaLl1I8WTgq5Iek/SBfthWsy61hSzWAAABaklEQVSt0f0iZs0lIuZKWirpnWSJ4j6yq3buRXa1zsfJfumPAnYnO7t4sqQPRsSdZVV9AhgJjCa7GuoM4Bdl8xdGxK6Svgj8T0R8XtLlQEdEXFDkNprVwj0Is3ylXkQpQdxXNn0v8OH0eBR4BNiOLGGUez/wu4h4K7JrHt1RMb900cRpZInErKG4B2GWr7QfYjTZENPzwBnAK2S9gDbguxHx0yp15F0Kutzr6XkZ/l+0BuQehFm+e4CPAYsiYllELAKGkA0z3Ud2J7ET0j02kDRc0mYVddwNfDLti2ghSyrdWQJs0EfbYLZSnCDM8k0nO3rp/oqylyNiYUT8EfgNcJ+k6WT3Uaj8Yr+O7H4BT5DdqvMBsn0Y1dwIHOad1NYIfDVXswJJGhQRHZI2Jrsc9D5pf4RZw/O4p1mxpkgaAqwFnOvkYKsS9yDMzCyX90GYmVkuJwgzM8vlBGFmZrmcIMzMLJcThJmZ5fr/XvvXy1dk19EAAAAASUVORK5CYII=\n",
      "text/plain": [
       "<Figure size 432x288 with 1 Axes>"
      ]
     },
     "metadata": {},
     "output_type": "display_data"
    },
    {
     "name": "stdout",
     "output_type": "stream",
     "text": [
      "Mean Weight for Male heroes: 126.24802205907002\n",
      "Median Weight for Male heroes: 90.0\n"
     ]
    },
    {
     "data": {
      "image/png": "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\n",
      "text/plain": [
       "<Figure size 432x288 with 1 Axes>"
      ]
     },
     "metadata": {},
     "output_type": "display_data"
    },
    {
     "name": "stdout",
     "output_type": "stream",
     "text": [
      "Mean Weight for Female heroes: 79.85925925925926\n",
      "Median Weight for Female heroes: 58.0\n"
     ]
    }
   ],
   "source": [
    "for feat in ['Height', 'Weight']:\n",
    "    df = heroes_and_powers_df[heroes_and_powers_df[feat]>0] #Temporarily remove negatives\n",
    "    for group in ['Male', 'Female']:\n",
    "        show_distplot(df, group, feat)\n",
    "        print(\"Mean {} for {} heroes: {}\".format(feat, group, df[df['Gender']==group][feat].mean()))\n",
    "        print(\"Median {} for {} heroes: {}\".format(feat, group, df[df['Gender']==group][feat].median()))"
   ]
  },
  {
   "cell_type": "markdown",
   "metadata": {},
   "source": [
    "### Sample Question: Most Common Powers\n",
    "\n",
    "The rest of this notebook will be left to you to investigate the dataset by formulating your own questions, and then seeking answers using pandas and numpy.  Every answer should include some sort of visualization, when appropriate. Before moving on to formulating your own questions, use the dataset to answer the following questions about superhero powers:\n",
    "\n",
    "* What are the 5 most common powers overall?"
   ]
  },
  {
   "cell_type": "code",
   "execution_count": 38,
   "metadata": {},
   "outputs": [
    {
     "name": "stdout",
     "output_type": "stream",
     "text": [
      "[('Super Strength', 362), ('Stamina', 294), ('Durability', 262), ('Super Speed', 251), ('Agility', 244)]\n"
     ]
    }
   ],
   "source": [
    "def top_5_powers(dataframe):\n",
    "    df = dataframe.drop(heroes_df.columns.values[1:], axis=1)\n",
    "    columns = df.columns.values\n",
    "    for col in columns:\n",
    "        df[col] = df[col].map({\"True\": 1, \"False\": 0})\n",
    "        \n",
    "    power_counts_dict = dict(df.sum())\n",
    "    \n",
    "    return sorted(power_counts_dict.items(), key=lambda x: x[1], reverse=True)[:5] \n",
    "    \n",
    "overall_top_5 = top_5_powers(heroes_and_powers_df)\n",
    "marvel_df = heroes_and_powers_df[heroes_and_powers_df['Publisher'] == 'Marvel Comics']\n",
    "dc_df = heroes_and_powers_df[heroes_and_powers_df['Publisher'] == 'DC Comics']\n",
    "print(overall_top_5)"
   ]
  },
  {
   "cell_type": "markdown",
   "metadata": {},
   "source": [
    "* What are the 5 most common powers in the Marvel Universe?"
   ]
  },
  {
   "cell_type": "code",
   "execution_count": 49,
   "metadata": {},
   "outputs": [
    {
     "name": "stdout",
     "output_type": "stream",
     "text": [
      "[('Super Strength', 204), ('Durability', 154), ('Stamina', 150), ('Super Speed', 137), ('Agility', 126)]\n"
     ]
    }
   ],
   "source": [
    "marvel_top_5 = top_5_powers(marvel_df)\n",
    "print(marvel_top_5)"
   ]
  },
  {
   "cell_type": "markdown",
   "metadata": {},
   "source": [
    "* What are the 5 most common powers in the DC Universe?"
   ]
  },
  {
   "cell_type": "code",
   "execution_count": 50,
   "metadata": {},
   "outputs": [
    {
     "name": "stdout",
     "output_type": "stream",
     "text": [
      "[('Super Strength', 109), ('Stamina', 90), ('Flight', 86), ('Super Speed', 79), ('Agility', 71)]\n"
     ]
    }
   ],
   "source": [
    "dc_top_5 = top_5_powers(dc_df)\n",
    "print(dc_top_5)"
   ]
  },
  {
   "cell_type": "markdown",
   "metadata": {},
   "source": [
    "Analyze the results you found above to answer the following question:\n",
    "\n",
    "How do the top 5 powers in the Marvel and DC universes compare?  Are they similar, or are there significant differences? How do they compare to the overall trends in the entire Superheroes dataset?\n",
    "\n",
    "Wite your answer below this line:\n",
    "____________________________________________________________________________________________________________________________\n",
    "\n",
    "\n",
    "### Your Own Investigation\n",
    "\n",
    "For the remainder of this lab, you'll be focusing on coming up with and answering your own question, just like we did above.  Your question should not be overly simple, and should require both descriptive statistics and data visualization to answer.  In case you're unsure of what questions to ask, some sample questions have been provided below.\n",
    "\n",
    "Pick one of the following questions to investigate and answer, or come up with one of your own!\n",
    "\n",
    "* Which powers have the highest chance of co-occurring in a hero (e.g. super strength and flight), and does this differ by gender?\n",
    "* Is there a relationship between a hero's height and weight and their powerset?\n",
    "* What is the distribution of skin colors amongst alien heroes?\n",
    "\n",
    "Explain your question below this line:\n",
    "____________________________________________________________________________________________________________________________\n",
    "\n",
    "\n",
    "\n",
    "Some sample cells have been provided to give you room to work. If you need to create more cells, you can do this easily by:\n",
    "\n",
    "1. Highlighting a cell and then pressing `esc` to enter command mode.\n",
    "1. Pressing `b` to add a cell below the currently highlighted cell, or `a` to add one above it.  \n",
    "\n",
    "Be sure to include thoughtful, well-labeled visualizations to back up your analysis!"
   ]
  },
  {
   "cell_type": "code",
   "execution_count": 51,
   "metadata": {},
   "outputs": [
    {
     "data": {
      "text/plain": [
       "<Figure size 432x288 with 0 Axes>"
      ]
     },
     "metadata": {},
     "output_type": "display_data"
    },
    {
     "data": {
      "image/png": "iVBORw0KGgoAAAANSUhEUgAAAlkAAAGrCAYAAADzSoLIAAAABHNCSVQICAgIfAhkiAAAAAlwSFlzAAALEgAACxIB0t1+/AAAADl0RVh0U29mdHdhcmUAbWF0cGxvdGxpYiB2ZXJzaW9uIDIuMi4yLCBodHRwOi8vbWF0cGxvdGxpYi5vcmcvhp/UCwAAIABJREFUeJzt3XmcZWV95/HPV0BAFhFpkS22GtzHtKSDKBhxGYO4gOMyalRUFM2IyySacYkKMSQYE8nLcUlaVNAoiNtIkERxwZ2lQWQR0BZRWrZGWWXRht/8cZ6SS1FdVV1dD13V9Xm/XvdV5z5neX7nnlv3fus5595KVSFJkqTZdbf1XYAkSdKGyJAlSZLUgSFLkiSpA0OWJElSB4YsSZKkDgxZkiRJHRiyJN1lkhya5P3ru451leTwJEeu7zokzW2GLGkNktwwcrstyU0j9/98lvs6NsktI9u/ZpJlX51kdVvuuiRnJtlnNuvppareWVUHz2TdJIuT/L8kVyW5NsnZSV442zVuqEaeY9e329lJ3pVky7XYxuVJ9upZ513Zj9SbIUtag6racuwG/AJ4xkjbJzt0+a6R7W8zxbInt7ruBRwDfGZt3ixnS5K7JbmrXkeOAS4EdgG2A14GXHUX9f17STaey9ubwruqaitgEfBK4AnAt5NsdhfWIC0YhixphpJsnuQDSS5LsjLJe5Js0ubtk2RFOz326yQXJXnubNdQVbcCHwW2BBa3vl+T5KdJfpXk80m2b+3vTvKekdpvSfK37f7WSW4eC2pJHpfk1CTXtJGyPUf2+5Qkf5vkVOBGYMckr0xycRshWeO+jp5mS/KQNiL3svb4rUrypjWsF2Ap8LGquqmqfldVZ1TVV9r8fZKsGLfO70dDWr/HJPlcq/H0JA8fWXaXJF9so2QXJXn1uJo/leTTSa4Hnt9mbd62OTYqtGSm25vsudTWeVbr45ok307ysJF5b2/rXZfk/CSPm+gxHFVVN1fVqcAzgJ2BF40ck5Pbc3ZVkqOTbNXmfQa4D/CVDKOor0uycXtMr2i1fSPJg0dq2y/JBe0xuiTJ66bap4n6mWp/pDmrqrx58zbFDbgYePK4tn8Evs0wqrI9cDrwtjZvH2A18A/A3YEnMwSS+69h+8cCv2q35cAzJ6nl1cBX2/TGwF8D1wBbAPsClwOPBDYDlgEntWX3BU5v008Efgp8c2TeqW16cavjyQx/iO0LrALu1eafAlwEPBjYhGFU5BrggW3+TsBD11D74cCRbfohQAEfaLX+CfBb4AFrWPc7wDeB5wE7j5u3D7BiXNvlwF4j/f4WeGar+W8YRsU2ardzgP/TjtWDGEYuHz+y7i3tcbgbsHlruxH47239IxhGF5nh9iZ7Lu0BXAb8cdv2QcCP27H/o3YstgcCPIDJn2N/M0H7ccDRI8fkia3u+7ZjffhEj+nI8+8AhpC/GfAh4JSR+b8Cdm/T9wYeNdU+TdSPN2/z9eZIljRzfw68s6quqqorgL8DXjwyfzVwaFX9tqq+CnwVeM4atvUe4A8Z3tjeBXwqydJJ+n58huu2Lgf2A/avqt+0mpZV1dlVdTNDAHtSkvsyhJRHJtka+FOGN8QHZThV9HiGAAPDm+bnq+qrVXVbVZ0I/Ah4ykj/R1bVhVX1u7afAI9IsllV/bKqzp/sgRvnnTWMrJwOXMAQECeyP3AacCjwiyTLkzxqLfr5XlUd32o+nCHQ7AbsBWxWVe9ux+rHwMe4fcQKhjB6Yns8bmptX6+qk2oYTfwEMDaSNZPtTfZcehXw/hpG7m6tqmXApgwBZTVDSHsYsFFVXVRVP1uLxwTgUmBbgKq6oKq+3uq+HPgXhufGhKpqdVUdXVU3tOfbocDuuf3042rg4Um2qqpfVdUPprFP0gbDkCXNQDt9dV/g5yPNP2cYxRmzqr3xjM7fcaLttTebq2s4DfZF4LPAsyYp4ZtVtU1VbVdVe1bVya19x9Gaquoa4Dpgp6q6jmGEZS+GkPUNhhGTR3PHkHU/4EXtNM41LcwtHVf7JSN9XM0QEl4HXJ7k+CR/OEnto26tqtHrqm5kGBW5kxZA3lRVD2V47H8MfH6a/YyveTVDuNiRYX8Xj9vfv2x93GndEZevoe612t40nkv3A946bnuLGI7pecCbgcOAK5N8Mu308FrYCfh1q2XHJJ9J8ssk1wFHMoTRCbXThf/UTolexxCSwzBqBUMwfjZDKP76yB8Oa9yntaxdmtMMWdIMVFUxvMneb6T5D4BfjtzfLne8oPgPGN7Yp9UFw5vV2rp0tKYk9wS2HqnrmwynuB4KnNXuP41hFOY7bZlLGEaqthm5bVFVR4yr7/Y7VV+qqicxhJZfMIySdVNVVwLvZQgzWwC/Ae4xNr9dz7TtuNV2GZm/Uav1Uob9vWDc/m5VVaMht5i+tdreNJ5LlwDvGLe9e1TV59v6R1fVYxlOFW7GMAo2LUm2AfZmOFUJw4jqb4BHVNXWwCu44/Nw/OPwMoYRzicA92Q43cjYOlX1/ap6OsPpzK8wfHhhyn2aoB9pXjJkSTN3DPDOJPdOch/gbcC/j8zfBHh7krsneSJDuPnc+I200YBnJdkiyUZJngY8F/iPGdb0yiSPaAHv3QyntcZGXb4JHAic2U5zncxwjdd5VXVtW+Zo4LlJntTq2bxN35cJJNkpydOS3IPhWqMbgFtnUPuk2ojJw1pN92x1n9tOk54PbNvq3IThtNX417fHJnl6m//XDNcLnUkLl0nekGSzdjwemWS3GZY6k+1N9lxaBrw2ydIMtkzyzCT3aI/H45NsCtzUblM+9q2u3YEvMgTNsb62Yjh+1yX5A4YRuFFXMIQ5Rpa/meGx3IKRgNeez89vp6d/B1w/Utsa92kN/UjzkiFLmrl3MFyrdB7DqNB3GS5gHnMxwzUplzN8AvBlVXXRBNsJ8EaGN7urGd6oDqiq769tQVV1AsPF9se37d2XO14n9m2GN8NvtftnAbeN3KfV+GyGoHIVw6mr17Pm14uNgLe0/fwVwwXsr13b2qdha4b9uhZYwXB66X+0mq9qNX4SWNlqGf/1Dp8DXs7wGD8beHa7Huh3DBehP5ZhX1cxjMTN6CsxZri9NT6Xquq7DKdi/43hAwY/Bl7IMNqzOfDPbV8va328Y5J+3p7hE41XMTwnvws8buS09jsYTidfC3yBO/9RcBhwWDvFdzDwkbZ/lzOciv7OuOVf3h6Da4GXMFzvN9U+TdSPNC9lGKmWNJsyfDno+6tqutcmqaMkhwPbVdUr1nctkhYOR7IkSZI6MGRJkiR14OlCSZKkDhzJkiRJ6uCu/Meka7TddtvV4sWL13cZkiRJUzrjjDOuqqpFUy03J0LW4sWLWb58+fouQ5IkaUpJfj71Up4ulCRJ6sKQJUmS1IEhS5IkqQNDliRJUgeGLEmSpA4MWZIkSR0YsiRJkjowZEmSJHVgyJIkSerAkCVJktSBIUuSJKkDQ5YkSVIHhixJkqQODFmSJEkdGLIkSZI6MGRJkiR1sPH6LuCutPjNX1rfJWxQLj78aeu7BEmS5ixHsiRJkjowZEmSJHVgyJIkSerAkCVJktSBIUuSJKkDQ5YkSVIHhixJkqQODFmSJEkdTBmykmyW5LQkP0xyXpJDW/tRSX6W5Kx2W9Lak+R9SVYkOTvJbr13QpIkaa6Zzje+3wI8sapuSLIJ8J0k/9nmvamqPjtu+acCu7bbo4EPtZ+SJEkLxpQjWTW4od3dpN1qklX2Az7e1jsF2CbJDuteqiRJ0vwxrWuykmyU5CzgSuCkqjq1zTqsnRI8IsmmrW0n4JKR1Ve2tvHbPCjJ8iTLV61atQ67IEmSNPdMK2RV1a1VtQTYGdg9ySOAtwAPAf4E2Bb4P23xTLSJCba5rKqWVtXSRYsWzah4SZKkuWqtPl1YVdcAJwP7VNVl7ZTgLcDHgN3bYiuBXUZW2xm4dBZqlSRJmjem8+nCRUm2adObA08GLhi7zipJgP2Bc9sqxwMvaZ8y3AO4tqou61K9JEnSHDWdTxfuABydZCOGUHZcVZ2Q5OtJFjGcHjwLeHVb/kRgX2AFcCPwstkvW5IkaW6bMmRV1dnAoyZof+Iali/gNetemiRJ0vzlN75LkiR1YMiSJEnqwJAlSZLUgSFLkiSpA0OWJElSB4YsSZKkDgxZkiRJHRiyJEmSOjBkSZIkdWDIkiRJ6sCQJUmS1IEhS5IkqQNDliRJUgeGLEmSpA4MWZIkSR0YsiRJkjowZEmSJHVgyJIkSerAkCVJktSBIUuSJKkDQ5YkSVIHhixJkqQODFmSJEkdGLIkSZI6MGRJkiR1YMiSJEnqwJAlSZLUgSFLkiSpA0OWJElSB4YsSZKkDgxZkiRJHRiyJEmSOjBkSZIkdWDIkiRJ6sCQJUmS1IEhS5IkqQNDliRJUgeGLEmSpA4MWZIkSR0YsiRJkjowZEmSJHUwZchKslmS05L8MMl5SQ5t7fdPcmqSnyT5dJK7t/ZN2/0Vbf7ivrsgSZI090xnJOsW4IlV9UfAEmCfJHsA7waOqKpdgauBA9vyBwJXV9UfAke05SRJkhaUKUNWDW5odzdptwKeCHy2tR8N7N+m92v3afOflCSzVrEkSdI8MK1rspJslOQs4ErgJOCnwDVVtbotshLYqU3vBFwC0OZfC9x7gm0elGR5kuWrVq1at72QJEmaY6YVsqrq1qpaAuwM7A48dKLF2s+JRq3qTg1Vy6pqaVUtXbRo0XTrlSRJmhfW6tOFVXUNcDKwB7BNko3brJ2BS9v0SmAXgDb/nsCvZ6NYSZKk+WI6ny5clGSbNr058GTgfOAbwHPaYgcAX2zTx7f7tPlfr6o7jWRJkiRtyDaeehF2AI5OshFDKDuuqk5I8iPg2CR/B/wA+Ehb/iPAJ5KsYBjBen6HuiVJkua0KUNWVZ0NPGqC9osYrs8a334z8NxZqU6SJGmems5IlnSXWfzmL63vEjY4Fx/+tPVdgiQtSP5bHUmSpA4MWZIkSR0YsiRJkjowZEmSJHVgyJIkSerAkCVJktSBIUuSJKkDQ5YkSVIHhixJkqQODFmSJEkdGLIkSZI6MGRJkiR1YMiSJEnqwJAlSZLUgSFLkiSpA0OWJElSB4YsSZKkDgxZkiRJHRiyJEmSOjBkSZIkdWDIkiRJ6sCQJUmS1IEhS5IkqQNDliRJUgeGLEmSpA4MWZIkSR0YsiRJkjowZEmSJHVgyJIkSerAkCVJktSBIUuSJKkDQ5YkSVIHG6/vAiTNP4vf/KX1XcIG5eLDn7a+S5DUgSNZkiRJHRiyJEmSOjBkSZIkdWDIkiRJ6sCQJUmS1IEhS5IkqQNDliRJUgdThqwkuyT5RpLzk5yX5PWt/ZAkv0xyVrvtO7LOW5KsSHJhkj/ruQOSJElz0XS+jHQ18FdVdWaSrYAzkpzU5h1RVf80unCShwHPBx4O7Ah8NcmDqurW2SxckiRpLptyJKuqLquqM9v09cD5wE6TrLIfcGxV3VJVPwNWALvPRrGSJEnzxVr9W50ki4FHAacCewIHJ3kJsJxhtOtqhgB2yshqK5k8lEmSOvDfH80u//2R1ta0L3xPsiXwOeANVXUd8CHggcAS4DLgn8cWnWD1mmB7ByVZnmT5qlWr1rpwSZKkuWxaISvJJgwB65NV9XmAqrqiqm6tqtuAD3P7KcGVwC4jq+8MXDp+m1W1rKqWVtXSRYsWrcs+SJIkzTnT+XRhgI8A51fVe0fadxhZ7FnAuW36eOD5STZNcn9gV+C02StZkiRp7pvONVl7Ai8GzklyVmt7K/CCJEsYTgVeDLwKoKrOS3Ic8COGTya+xk8WSpKkhWbKkFVV32Hi66xOnGSdw4DD1qEuSZKkec1vfJckSepgrb7CQZIkzR6/ZmP2zaWv2nAkS5IkqQNDliRJUgeGLEmSpA4MWZIkSR0YsiRJkjowZEmSJHVgyJIkSerAkCVJktSBIUuSJKkDQ5YkSVIHhixJkqQODFmSJEkdGLIkSZI6MGRJkiR1YMiSJEnqwJAlSZLUgSFLkiSpA0OWJElSB4YsSZKkDgxZkiRJHRiyJEmSOjBkSZIkdWDIkiRJ6sCQJUmS1IEhS5IkqQNDliRJUgeGLEmSpA4MWZIkSR0YsiRJkjowZEmSJHVgyJIkSerAkCVJktSBIUuSJKkDQ5YkSVIHhixJkqQODFmSJEkdGLIkSZI6MGRJkiR1YMiSJEnqYMqQlWSXJN9Icn6S85K8vrVvm+SkJD9pP+/V2pPkfUlWJDk7yW69d0KSJGmumc5I1mrgr6rqocAewGuSPAx4M/C1qtoV+Fq7D/BUYNd2Owj40KxXLUmSNMdNGbKq6rKqOrNNXw+cD+wE7Acc3RY7Gti/Te8HfLwGpwDbJNlh1iuXJEmaw9bqmqwki4FHAacC21fVZTAEMeA+bbGdgEtGVlvZ2iRJkhaMaYesJFsCnwPeUFXXTbboBG01wfYOSrI8yfJVq1ZNtwxJkqR5YVohK8kmDAHrk1X1+dZ8xdhpwPbzyta+EthlZPWdgUvHb7OqllXV0qpaumjRopnWL0mSNCdN59OFAT4CnF9V7x2ZdTxwQJs+APjiSPtL2qcM9wCuHTutKEmStFBsPI1l9gReDJyT5KzW9lbgcOC4JAcCvwCe2+adCOwLrABuBF42qxVLkiTNA1OGrKr6DhNfZwXwpAmWL+A161iXJEnSvOY3vkuSJHVgyJIkSerAkCVJktSBIUuSJKkDQ5YkSVIHhixJkqQODFmSJEkdGLIkSZI6MGRJkiR1YMiSJEnqwJAlSZLUgSFLkiSpA0OWJElSB4YsSZKkDgxZkiRJHRiyJEmSOjBkSZIkdWDIkiRJ6sCQJUmS1IEhS5IkqQNDliRJUgeGLEmSpA4MWZIkSR0YsiRJkjowZEmSJHVgyJIkSerAkCVJktSBIUuSJKkDQ5YkSVIHhixJkqQODFmSJEkdGLIkSZI6MGRJkiR1YMiSJEnqwJAlSZLUgSFLkiSpA0OWJElSB4YsSZKkDgxZkiRJHRiyJEmSOjBkSZIkdWDIkiRJ6mDKkJXko0muTHLuSNshSX6Z5Kx223dk3luSrEhyYZI/61W4JEnSXDadkayjgH0maD+iqpa024kASR4GPB94eFvng0k2mq1iJUmS5ospQ1ZVfQv49TS3tx9wbFXdUlU/A1YAu69DfZIkSfPSulyTdXCSs9vpxHu1tp2AS0aWWdna7iTJQUmWJ1m+atWqdShDkiRp7plpyPoQ8EBgCXAZ8M+tPRMsWxNtoKqWVdXSqlq6aNGiGZYhSZI0N80oZFXVFVV1a1XdBnyY208JrgR2GVl0Z+DSdStRkiRp/plRyEqyw8jdZwFjnzw8Hnh+kk2T3B/YFTht3UqUJEmafzaeaoEkxwB7A9slWQm8E9g7yRKGU4EXA68CqKrzkhwH/AhYDbymqm7tU7okSdLcNWXIqqoXTND8kUmWPww4bF2KkiRJmu/8xndJkqQODFmSJEkdGLIkSZI6MGRJkiR1YMiSJEnqwJAlSZLUgSFLkiSpA0OWJElSB4YsSZKkDgxZkiRJHRiyJEmSOjBkSZIkdWDIkiRJ6sCQJUmS1IEhS5IkqQNDliRJUgeGLEmSpA4MWZIkSR0YsiRJkjowZEmSJHVgyJIkSerAkCVJktSBIUuSJKkDQ5YkSVIHhixJkqQODFmSJEkdGLIkSZI6MGRJkiR1YMiSJEnqwJAlSZLUgSFLkiSpA0OWJElSB4YsSZKkDgxZkiRJHRiyJEmSOjBkSZIkdWDIkiRJ6sCQJUmS1IEhS5IkqQNDliRJUgeGLEmSpA6mDFlJPprkyiTnjrRtm+SkJD9pP+/V2pPkfUlWJDk7yW49i5ckSZqrpjOSdRSwz7i2NwNfq6pdga+1+wBPBXZtt4OAD81OmZIkSfPLlCGrqr4F/Hpc837A0W36aGD/kfaP1+AUYJskO8xWsZIkSfPFTK/J2r6qLgNoP+/T2ncCLhlZbmVru5MkByVZnmT5qlWrZliGJEnS3DTbF75ngraaaMGqWlZVS6tq6aJFi2a5DEmSpPVrpiHrirHTgO3nla19JbDLyHI7A5fOvDxJkqT5aaYh63jggDZ9APDFkfaXtE8Z7gFcO3ZaUZIkaSHZeKoFkhwD7A1sl2Ql8E7gcOC4JAcCvwCe2xY/EdgXWAHcCLysQ82SJElz3pQhq6pesIZZT5pg2QJes65FSZIkzXd+47skSVIHhixJkqQODFmSJEkdGLIkSZI6MGRJkiR1YMiSJEnqwJAlSZLUgSFLkiSpA0OWJElSB4YsSZKkDgxZkiRJHRiyJEmSOjBkSZIkdWDIkiRJ6sCQJUmS1IEhS5IkqQNDliRJUgeGLEmSpA4MWZIkSR0YsiRJkjowZEmSJHVgyJIkSerAkCVJktSBIUuSJKkDQ5YkSVIHhixJkqQODFmSJEkdGLIkSZI6MGRJkiR1YMiSJEnqwJAlSZLUgSFLkiSpA0OWJElSB4YsSZKkDgxZkiRJHRiyJEmSOjBkSZIkdWDIkiRJ6sCQJUmS1IEhS5IkqQNDliRJUgcbr8vKSS4GrgduBVZX1dIk2wKfBhYDFwPPq6qr161MSZKk+WU2RrKeUFVLqmppu/9m4GtVtSvwtXZfkiRpQelxunA/4Og2fTSwf4c+JEmS5rR1DVkFfCXJGUkOam3bV9VlAO3nfSZaMclBSZYnWb5q1ap1LEOSJGluWadrsoA9q+rSJPcBTkpywXRXrKplwDKApUuX1jrWIUmSNKes00hWVV3afl4JfAHYHbgiyQ4A7eeV61qkJEnSfDPjkJVkiyRbjU0DTwHOBY4HDmiLHQB8cV2LlCRJmm/W5XTh9sAXkoxt51NV9V9JTgeOS3Ig8AvguetepiRJ0vwy45BVVRcBfzRB+6+AJ61LUZIkSfOd3/guSZLUgSFLkiSpA0OWJElSB4YsSZKkDgxZkiRJHRiyJEmSOjBkSZIkdWDIkiRJ6sCQJUmS1IEhS5IkqQNDliRJUgeGLEmSpA4MWZIkSR0YsiRJkjowZEmSJHVgyJIkSerAkCVJktSBIUuSJKkDQ5YkSVIHhixJkqQODFmSJEkdGLIkSZI6MGRJkiR1YMiSJEnqwJAlSZLUgSFLkiSpA0OWJElSB4YsSZKkDgxZkiRJHRiyJEmSOjBkSZIkdWDIkiRJ6sCQJUmS1IEhS5IkqQNDliRJUgeGLEmSpA4MWZIkSR0YsiRJkjowZEmSJHVgyJIkSerAkCVJktRBt5CVZJ8kFyZZkeTNvfqRJEmai7qErCQbAR8Ango8DHhBkof16EuSJGku6jWStTuwoqouqqrfAscC+3XqS5Ikac5JVc3+RpPnAPtU1Sva/RcDj66qg0eWOQg4qN19MHDhrBcyf20HXLW+i9CUPE5zn8dofvA4zQ8ep9vdr6oWTbXQxp06zwRtd0hzVbUMWNap/3ktyfKqWrq+69DkPE5zn8dofvA4zQ8ep7XX63ThSmCXkfs7A5d26kuSJGnO6RWyTgd2TXL/JHcHng8c36kvSZKkOafL6cKqWp3kYODLwEbAR6vqvB59baA8jTo/eJzmPo/R/OBxmh88Tmupy4XvkiRJC53f+C5JktSBIUuSJKmDBR+ykrwtyXlJzk5yVpJH38X9Pz3JD5L8MMmPkryqte9/V31LfpKXJtlx5P7FSba7K/q+q010vJO8Ick9Zmn7Oyb57Gxsa6FIcms7Fue134O/TDJrr01JTk5yp4+dJ3nm2L/8SnJIkje26b9N8uQ2PWvPjblurr4Wduzv98d8oUnyrCSV5CHTWPbIsfei0feGJN9rPxcneWHfiuevXt+TNS8keQzwdGC3qrqlPXnu3rG/MFwHd1u7vwnDhYS7V9XKJJsCi9vi+wMnAD+aYDsbV9XqWSztpcC5bOBfszHJ8f408O/AjevaR1VdCjxnXbezwNxUVUsAktwH+BRwT+Cd091Ako2q6ta16bSqjmeCTz1X1TtG7r6BWXpuzGVz/LVQs+8FwHcYPvl/yGQLjn2p+ATtj22Ti4EXMvzeapyFPpK1A3BVVd0CUFVXtTfJ8Yl9aZKT2/QhST6R5OtJfpLklWMbS/KmJKe3vwQPbW2Lk5yf5IPAmdzx+8O2Ygi6v2r931JVFyZ5LPBM4D3tL8oHtr/G/z7JN4HXJ1mU5HOtv9OT7DlS30fb8hcled1IfW9PckGSk5Ick+SNGb6dfynwydbX5m3x1yY5M8k50/lrZ5640/FmCEQ7At9I8g2AJB9Ksrz9VX/o2MrtOfH3Sb7f5u+W5MtJfprk1W2ZxUnObdMvTfL5JP/Vniv/OLKtCftY6KrqSob/BHFwBi9N8v6x+UlOSLJ3m76hjTqdCjwmyTva78K5SZa1N/IxL0ryvTZv97b+HbY90sdRSZ7Tfnd+/9xIcmCSI0aWe2WS93Z5IO56c/K1sK13VJJ/TfLtJD9O8vTWvlGS94z086rJ+m/tb0tyYZKvMvynkQUnyZbAnsCBDCGLJHdL8sH2enRCkhPbe8NkI8E3tMnDgce194//3Y7TkpHlvpvkkd13bK6qqgV7A7YEzgJ+DHwQePzIvIuB7dr0UuDkNn0I8ENgc4Z/MXAJwwvxUxj+EgtDeD0B+FOGlH8bsMcaajgSuBI4Bvhz4G6t/SjgOSPLnQx8cOT+p4C92vQfAOeP1Pc9YNNW36+ATdo+nNXq3gr4CfDGkW0vHbfvr23T/ws4cn0fq57He/RYt/vbtp8btcfmkSPL/UWbPgI4uz2Wi4ArW/ti4Nw2/VLgIoZRmc2AnwO7TNbHQrwBN0zQdjWwfXsM3z/SfgKwd5su4Hnjj1ub/gTwjDZ9MvDhNv2n447P+9v0ISO/D7//3eOOrwNbAD8FNmn3vwf8t/X9+M3SMZjrr4X/1ba1K8OXXW/GEMb/pi2zKbAcuP8k/f8xcA5wD2BrYMXYMV9IN+BFwEdGnsO7MfyxeWJ7vO7bfv/GfgdOpr0/jHsu3NB+7g2cMLL9A4B/adMPApav731en7cFPZJVVTcw/OIdBKwCPp3kpdNY9YtVdVMNIyHfYPiH2E9ptx8w/JX2EIYXBICfV9Upa6jhFcCTgNOANwIfnaTfT49MPxl4f5KzGE5hHjZtAAAEo0lEQVR5bJ1kqzbvSzX8JXgVw4vW9sBeI3VfD/zHFPv4+fbzDDaQYfu1ON7PS3Imw7F8ODB6bdzY6aVzgFOr6vqqWgXcnGSbCbb1taq6tqpuZjj1e79p9KGJ/zXXeLcCnxu5/4QkpyY5B3giw+M65hiAqvoWw+/KRMdqUlX1G+DrwNPb6O4mVXXO2m5nLpoHr4XHVdVtVfUThj9cHtL6eEl7DTwVuHfrZ039Pw74QlXdWFXXsXC/IPsFwLFt+th2fy/gM+0xvpzhWM7UZxh+RzYBXs4QkhesBX1NFkAN13GcDJzcXpwPYHhSrOb206mbjV9tgvsB/qGq/m10RpLFwG+mqOEc4JwknwB+xvAX9kRGt3M34DFVddO4/gBuGWm6leE4T+dNa9TYNsbW3yCs4Xj/XpL7M7zA/0lVXZ3kKO54/Mcel9u44+N8GxM/Tnc6FtPoY0FL8gCGx+pK7vh7CHd8nG5ux5MkmzGMwCytqkuSHDJu2Yl+Z2fiSOCtwAXAx2a4jTlpjr8Wrqmf11bVl8f182dr6P8NE2xnQUlyb4Y/QB6RpBhG0gv4wmz1UVU3JjkJ2A94HsPo54K1oEeykjw4ya4jTUsYTunAMCz6x2362eNW3S/JZu0JuzfDvxH6MvDydr6bJDtluIh3sv63HLu+ZIL+r2c4FbUmXwEOHtnWkkmWheEix2e0urcEnjYyb6q+NgiTHO/R/d+a4Y3g2iTbA0/tUMpd0ce8lGQR8K8Mp/GK4fdwSbtmZBeGkZKJjL35X9We3+M/fPA/2/b3Aq6tqmunWdIdfjeq6lSGa4leSBsd2xDM8ddCgOe258ADgQcAF7Z+/qKNmJDkQUm2mKT/bwHPSrJ5G/V/xqQPyobpOcDHq+p+VbW4qnZhCLNXAc9uj/H2DMdyuiZ6/zgSeB9welX9ehbqnrc2mBGKGdoS+L/t1MFqhnP0B7V5hwIfSfJWhqHoUacBX2K4FupdNVwgemmShwLfb6NJNzCc+57sE08B/jrJvwE3MbzxvrTNOxb4cIaLbyf6tNrrgA8kOZvhOH4LePWaOqqq05Mcz3ANxc8Zrl8Ye6M5CvjXJDcBj5mk3vluTcf7BcB/Jrmsqp6Q5AfAeQynJb4720VU1Q979zHPbN5O+WzCcFw+AYxdUP5dhjeBcxg+AXvmRBuoqmuSfLgtdzHDm/2oqzN85HxrhlMY07WMkedGazsOWFJVV6/Fdua6ufxaCEOo+ibDpQ+vrqqbkxzJcCnDmRk6WgXsX1Vfmaj/qjozyacZrj37OfDttXh8NhQvYLhQfdTngIcyXOt2LsN1eady+/vDVM4GVif5IXBUVR1RVWckuY4NbLR3Jvy3OmupnYa4oar+aX3XsraSbFlVN2T43p9vAQdV1YRvWpImluQE4Iiq+tr6rmV9uqteC9vp9BOqyu+f62jk/eHeDOF5z3Z91ky2tSPDqeeHVPuajoVqoY9kLTTLMnyp3GbA0QYsafraKM9pwA8XesDSBumE9hy/O8Oo5EwD1kuAw4C/XOgBCxzJkiRJ6mJBX/guSZLUiyFLkiSpA0OWJElSB4YsSZKkDgxZkiRJHfx/nqm1yU2i5WUAAAAASUVORK5CYII=\n",
      "text/plain": [
       "<Figure size 720x504 with 1 Axes>"
      ]
     },
     "metadata": {},
     "output_type": "display_data"
    },
    {
     "data": {
      "text/plain": [
       "None"
      ]
     },
     "metadata": {},
     "output_type": "display_data"
    },
    {
     "data": {
      "text/plain": [
       "<Figure size 432x288 with 0 Axes>"
      ]
     },
     "metadata": {},
     "output_type": "display_data"
    },
    {
     "data": {
      "image/png": "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\n",
      "text/plain": [
       "<Figure size 720x504 with 1 Axes>"
      ]
     },
     "metadata": {},
     "output_type": "display_data"
    },
    {
     "data": {
      "text/plain": [
       "None"
      ]
     },
     "metadata": {},
     "output_type": "display_data"
    },
    {
     "data": {
      "text/plain": [
       "<Figure size 432x288 with 0 Axes>"
      ]
     },
     "metadata": {},
     "output_type": "display_data"
    },
    {
     "data": {
      "image/png": "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\n",
      "text/plain": [
       "<Figure size 720x504 with 1 Axes>"
      ]
     },
     "metadata": {},
     "output_type": "display_data"
    }
   ],
   "source": [
    "def top_5_bar_chart(top_5_list, publisher=None):\n",
    "    marvel_powers = [i[0] for i in top_5_list]\n",
    "    marvel_values = [i[1] for i in top_5_list]\n",
    "\n",
    "    plt.clf()\n",
    "    plt.figure(figsize=(10, 7));\n",
    "    bar_positions = np.arange(len(marvel_powers))\n",
    "    plt.bar(bar_positions, marvel_values);\n",
    "    plt.xticks(bar_positions, marvel_powers);\n",
    "    if publisher:\n",
    "        plt.title(\"Top 5 Powers in {} Universe\".format(publisher));\n",
    "    else:\n",
    "        plt.title(\"Top 5 Powers in Superheroes Dataset\");\n",
    "    plt.show()\n",
    "\n",
    "display(top_5_bar_chart(overall_top_5));\n",
    "display(top_5_bar_chart(dc_top_5, publisher=\"DC Comics\"));\n",
    "top_5_bar_chart(marvel_top_5, publisher=\"Marvel Comics\");"
   ]
  },
  {
   "cell_type": "markdown",
   "metadata": {},
   "source": [
    "## Summary\n",
    "\n",
    "In this lab, we demonstrated our mastery of:\n",
    "* Using all of our Pandas knowledge to date to clean the dataset and deal with null values\n",
    "* Using Queries and aggregations to group the data into interesting subsets as needed\n",
    "* Using descriptive statistics and data visualization to find answers to questions we may have about the data"
   ]
  }
 ],
 "metadata": {
  "kernelspec": {
   "display_name": "Python 3",
   "language": "python",
   "name": "python3"
  },
  "language_info": {
   "codemirror_mode": {
    "name": "ipython",
    "version": 3
   },
   "file_extension": ".py",
   "mimetype": "text/x-python",
   "name": "python",
   "nbconvert_exporter": "python",
   "pygments_lexer": "ipython3",
<<<<<<< HEAD
   "version": "3.6.5"
  },
  "toc": {
   "base_numbering": 1,
   "nav_menu": {},
   "number_sections": true,
   "sideBar": true,
   "skip_h1_title": false,
   "title_cell": "Table of Contents",
   "title_sidebar": "Contents",
   "toc_cell": false,
   "toc_position": {},
   "toc_section_display": true,
   "toc_window_display": false
  },
  "varInspector": {
   "cols": {
    "lenName": 16,
    "lenType": 16,
    "lenVar": 40
   },
   "kernels_config": {
    "python": {
     "delete_cmd_postfix": "",
     "delete_cmd_prefix": "del ",
     "library": "var_list.py",
     "varRefreshCmd": "print(var_dic_list())"
    },
    "r": {
     "delete_cmd_postfix": ") ",
     "delete_cmd_prefix": "rm(",
     "library": "var_list.r",
     "varRefreshCmd": "cat(var_dic_list()) "
    }
   },
   "types_to_exclude": [
    "module",
    "function",
    "builtin_function_or_method",
    "instance",
    "_Feature"
   ],
   "window_display": false
=======
   "version": "3.6.6"
>>>>>>> 47f0015f52d5315245e9b4033e5f390fe00eec19
  }
 },
 "nbformat": 4,
 "nbformat_minor": 2
}
